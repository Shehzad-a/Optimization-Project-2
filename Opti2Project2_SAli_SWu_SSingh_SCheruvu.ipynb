{
  "nbformat": 4,
  "nbformat_minor": 0,
  "metadata": {
    "colab": {
      "name": "Opti2Project2_SAli_SWu_SSingh_SCheruvu",
      "provenance": [],
      "collapsed_sections": []
    },
    "kernelspec": {
      "name": "python3",
      "display_name": "Python 3"
    },
    "language_info": {
      "name": "python"
    }
  },
  "cells": [
    {
      "cell_type": "code",
      "execution_count": 1,
      "metadata": {
        "id": "5ZEKB_eDh8sy"
      },
      "outputs": [],
      "source": [
        "import pandas as pd\n",
        "import numpy as np\n",
        "import matplotlib.pyplot as plt\n",
        "%matplotlib inline\n",
        "from scipy.stats import binom\n",
        "import seaborn as sns"
      ]
    },
    {
      "cell_type": "code",
      "source": [
        "# define global constant\n",
        "C = 100 # number of seats for coach\n",
        "F = 20 # number of seats for first class\n",
        "T = 365 # days until takeoff"
      ],
      "metadata": {
        "id": "6J2J2huD2KdP"
      },
      "execution_count": 2,
      "outputs": []
    },
    {
      "cell_type": "code",
      "source": [
        "overbook = 5"
      ],
      "metadata": {
        "id": "6febVHpf15PF"
      },
      "execution_count": 3,
      "outputs": []
    },
    {
      "cell_type": "code",
      "source": [
        "def book(overbook):\n",
        "    \n",
        "    O = overbook\n",
        "    \n",
        "    priceCL = 300 # low price for coach\n",
        "    priceCH = 350 # high price for coach\n",
        "    priceFL = 425 # low price for first class\n",
        "    priceFH = 500 # high price for first class\n",
        "\n",
        "    pCL = [0.35,0.65] # demand probabilities for coach low price\n",
        "    pCH = [0.7,0.3] # demand probabilities for coach high price\n",
        "    pFL = [0.92,0.08] # demand probabilities for first class low price\n",
        "    pFH = [0.96,0.04] # demand probabilities for first class high price\n",
        "\n",
        "    bumpL = 50 # cost to bump passenger to first class\n",
        "    bumpH = 425 # cost to bump passenger off plane\n",
        "    showC = 0.95 # probability of coach passenger showing up\n",
        "    showF = 0.97 # probability of first class passenger showing up\n",
        "\n",
        "    delta = 1/(1+0.15/365) # discount rate\n",
        "\n",
        "    cValues = np.arange(C+O+1) # all possible number of coach seats left\n",
        "    fValues = np.arange(F+1) # all possible number of first class seats left\n",
        "    tValues = np.arange(T+1) # all possible days until takeoff\n",
        "\n",
        "    cN = len(cValues) # count possible state values for coach seats\n",
        "    fN = len(fValues) # count possible state values for first class seats\n",
        "    tN = len(tValues) # count possible state values for time\n",
        "    \n",
        "    V = np.zeros((cN,fN,tN)) # initialize value function\n",
        "    U = np.zeros((cN,fN,tN)) # initialize optimal choice variable\n",
        "    \n",
        "    # boundary/terminal condition\n",
        "    U[:,:,tN-1] = 0 # 0 is the value for no tickets for sale\n",
        "\n",
        "    # calculate cost\n",
        "    for c in range(cN):\n",
        "        for f in range(fN):\n",
        "            total_cost = 0\n",
        "            for i in range(c+1):\n",
        "                for j in range(f+1):\n",
        "                    if i > C:\n",
        "                        extra_space = F-j\n",
        "                        extra_passenger =  i-C\n",
        "                        if extra_space < extra_passenger:\n",
        "                            cost = (extra_passenger-extra_space)*bumpH + extra_space*bumpL\n",
        "                        else:\n",
        "                            cost = extra_passenger*bumpL\n",
        "                        prob = binom.pmf(i,c,showC)*binom.pmf(j,f,showF)\n",
        "                        total_cost += cost*prob   \n",
        "            V[c,f,tN-1] = -(total_cost)\n",
        "            \n",
        "    for t in reversed(range(tN-1)): # loop backwards in time\n",
        "        for c in range(cN): # loop over all possible coach seat values\n",
        "            for f in range(fN): # loop over all possible first class seat values\n",
        "\n",
        "                if c == cN-1 and f == fN-1: # if the coach seats and first class seats are full (0 seats left)\n",
        "                    V[c,f,t] = delta*V[c,f,t+1] # if so, you can't make any more money\n",
        "                    U[c,f,t] = 0 # no tickets for sale\n",
        "\n",
        "                elif c == cN-1 and f < fN-1:\n",
        "                    FL = (priceFL*pFL[1]) + delta*(pFL[1]*V[c,f+1,t+1] + pFL[0]*V[c,f,t+1])\n",
        "                    FH = (priceFH*pFH[1]) + delta*(pFH[1]*V[c,f+1,t+1] + pFH[0]*V[c,f,t+1])\n",
        "                    V[c,f,t] = max(FL, FH)\n",
        "                    U[c,f,t] = np.argmax([FL, FH]) + 1 # choice of price: 1 means (0, L), 2 means (0, H)\n",
        "\n",
        "                elif c < cN-1 and f == fN-1:\n",
        "                    CL = (priceCL*pCL[1]) + delta*(pCL[1]*V[c+1,f,t+1] + pCL[0]*V[c,f,t+1])\n",
        "                    CH = (priceCH*pCH[1]) + delta*(pCH[1]*V[c+1,f,t+1] + pCH[0]*V[c,f,t+1])\n",
        "                    V[c,f,t] = max(CL, CH)\n",
        "                    U[c,f,t] = np.argmax([CL, CH]) + 3 # choice of price: 3 means (L, 0), 4 means (H, 0)\n",
        "\n",
        "                else:\n",
        "                    CLFL = ((priceCL+priceFL)*pCL[1]*pFL[1]) + ((0+priceFL)*pCL[0]*pFL[1]) + \\\n",
        "                           ((priceCL+0)*pCL[1]*pFL[0]) + ((0+0)*pCL[0]*pFL[0]) + \\\n",
        "                            delta*((pCL[1]*pFL[1])*V[c+1,f+1,t+1]) + delta*((pCL[0]*pFL[1])*V[c,f+1,t+1]) + \\\n",
        "                            delta*((pCL[1]*pFL[0])*V[c+1,f,t+1]) + delta*((pCL[0]*pFL[0])*V[c,f,t+1]) \n",
        "\n",
        "                    CLFH = ((priceCL+priceFH)*pCL[1]*pFH[1]) + ((0+priceFH)*pCL[0]*pFH[1]) + \\\n",
        "                           ((priceCL+0)*pCL[1]*pFH[0]) + ((0+0)*pCL[0]*pFH[0]) + \\\n",
        "                            delta*((pCL[1]*pFH[1])*V[c+1,f+1,t+1]) + delta*((pCL[0]*pFH[1])*V[c,f+1,t+1]) + \\\n",
        "                            delta*((pCL[1]*pFH[0])*V[c+1,f,t+1]) + delta*((pCL[0]*pFH[0])*V[c,f,t+1])  \n",
        "\n",
        "                    CHFL = ((priceCH+priceFL)*pCH[1]*pFL[1]) + ((0+priceFL)*pCH[0]*pFL[1]) + \\\n",
        "                           ((priceCH+0)*pCH[1]*pFL[0]) + ((0+0)*pCH[0]*pFL[0]) + \\\n",
        "                            delta*((pCH[1]*pFL[1])*V[c+1,f+1,t+1]) + delta*((pCH[0]*pFL[1])*V[c,f+1,t+1]) + \\\n",
        "                            delta*((pCH[1]*pFL[0])*V[c+1,f,t+1]) + delta*((pCH[0]*pFL[0])*V[c,f,t+1]) \n",
        "\n",
        "                    CHFH = ((priceCH+priceFH)*pCH[1]*pFH[1]) + ((0+priceFH)*pCH[0]*pFH[1]) + \\\n",
        "                           ((priceCH+0)*pCH[1]*pFH[0]) + ((0+0)*pCH[0]*pFH[0]) + \\\n",
        "                            delta*((pCH[1]*pFH[1])*V[c+1,f+1,t+1]) + delta*((pCH[0]*pFH[1])*V[c,f+1,t+1]) + \\\n",
        "                            delta*((pCH[1]*pFH[0])*V[c+1,f,t+1]) + delta*((pCH[0]*pFH[0])*V[c,f,t+1]) \n",
        "\n",
        "                    V[c,f,t] = max([CLFL,CLFH,CHFL,CHFH]) # value funciton maximizes expected revenue\n",
        "                    U[c,f,t] = np.argmax([CLFL,CLFH,CHFL,CHFH]) +5 # choice of price: 5 means LL, 6 LH, 7 means HL, 8 means HH\n",
        "                    \n",
        "    profit = V[0,0,0]\n",
        "    cost = V[c,f,tN-1]\n",
        "    \n",
        "    return profit, cost, U"
      ],
      "metadata": {
        "id": "H6jfmgqciGKc"
      },
      "execution_count": 4,
      "outputs": []
    },
    {
      "cell_type": "code",
      "source": [
        "profit, cost, U = book(overbook)\n",
        "print('The profit is:',profit)\n",
        "print('The cost is:',cost)"
      ],
      "metadata": {
        "id": "otDUmoh4owQO",
        "colab": {
          "base_uri": "https://localhost:8080/"
        },
        "outputId": "ce52a96f-5f66-4dec-e7f7-697a37f3f3c3"
      },
      "execution_count": 5,
      "outputs": [
        {
          "output_type": "stream",
          "name": "stdout",
          "text": [
            "The profit is: 42242.862198795076\n",
            "The cost is: -240.92770229606109\n"
          ]
        }
      ]
    },
    {
      "cell_type": "markdown",
      "source": [
        "# Question 2"
      ],
      "metadata": {
        "id": "5mRI93e_Om9j"
      }
    },
    {
      "cell_type": "code",
      "source": [
        "# determine list of overbook values\n",
        "overbook_list = np.arange(6,16)"
      ],
      "metadata": {
        "id": "BiSVuni92cge"
      },
      "execution_count": 6,
      "outputs": []
    },
    {
      "cell_type": "code",
      "source": [
        "df = pd.DataFrame(columns = ['Overbook', 'Profit', 'Cost'])\n",
        "\n",
        "for overbook in overbook_list:\n",
        "    profit, cost, U = book(overbook)\n",
        "    df = df.append({'Overbook': overbook, 'Profit': profit, 'Cost': cost}, ignore_index=True)\n",
        "\n",
        "df"
      ],
      "metadata": {
        "id": "RVxDWA0Rxkuf",
        "colab": {
          "base_uri": "https://localhost:8080/",
          "height": 363
        },
        "outputId": "b24e4b77-2b5e-4e1b-80c9-dc7008e0b1ce"
      },
      "execution_count": 7,
      "outputs": [
        {
          "output_type": "execute_result",
          "data": {
            "text/plain": [
              "   Overbook        Profit         Cost\n",
              "0       6.0  42368.868993  -434.289407\n",
              "1       7.0  42444.241213  -690.358430\n",
              "2       8.0  42482.211238  -998.676874\n",
              "3       9.0  42496.112304 -1345.467811\n",
              "4      10.0  42495.971957 -1717.685113\n",
              "5      11.0  42488.259536 -2105.171140\n",
              "6      12.0  42476.996209 -2501.071102\n",
              "7      13.0  42464.597940 -2901.260598\n",
              "8      14.0  42452.362210 -3303.487127\n",
              "9      15.0  42440.944844 -3706.619973"
            ],
            "text/html": [
              "\n",
              "  <div id=\"df-a73c83af-bf8f-4738-9de1-4fc5c9df8ebc\">\n",
              "    <div class=\"colab-df-container\">\n",
              "      <div>\n",
              "<style scoped>\n",
              "    .dataframe tbody tr th:only-of-type {\n",
              "        vertical-align: middle;\n",
              "    }\n",
              "\n",
              "    .dataframe tbody tr th {\n",
              "        vertical-align: top;\n",
              "    }\n",
              "\n",
              "    .dataframe thead th {\n",
              "        text-align: right;\n",
              "    }\n",
              "</style>\n",
              "<table border=\"1\" class=\"dataframe\">\n",
              "  <thead>\n",
              "    <tr style=\"text-align: right;\">\n",
              "      <th></th>\n",
              "      <th>Overbook</th>\n",
              "      <th>Profit</th>\n",
              "      <th>Cost</th>\n",
              "    </tr>\n",
              "  </thead>\n",
              "  <tbody>\n",
              "    <tr>\n",
              "      <th>0</th>\n",
              "      <td>6.0</td>\n",
              "      <td>42368.868993</td>\n",
              "      <td>-434.289407</td>\n",
              "    </tr>\n",
              "    <tr>\n",
              "      <th>1</th>\n",
              "      <td>7.0</td>\n",
              "      <td>42444.241213</td>\n",
              "      <td>-690.358430</td>\n",
              "    </tr>\n",
              "    <tr>\n",
              "      <th>2</th>\n",
              "      <td>8.0</td>\n",
              "      <td>42482.211238</td>\n",
              "      <td>-998.676874</td>\n",
              "    </tr>\n",
              "    <tr>\n",
              "      <th>3</th>\n",
              "      <td>9.0</td>\n",
              "      <td>42496.112304</td>\n",
              "      <td>-1345.467811</td>\n",
              "    </tr>\n",
              "    <tr>\n",
              "      <th>4</th>\n",
              "      <td>10.0</td>\n",
              "      <td>42495.971957</td>\n",
              "      <td>-1717.685113</td>\n",
              "    </tr>\n",
              "    <tr>\n",
              "      <th>5</th>\n",
              "      <td>11.0</td>\n",
              "      <td>42488.259536</td>\n",
              "      <td>-2105.171140</td>\n",
              "    </tr>\n",
              "    <tr>\n",
              "      <th>6</th>\n",
              "      <td>12.0</td>\n",
              "      <td>42476.996209</td>\n",
              "      <td>-2501.071102</td>\n",
              "    </tr>\n",
              "    <tr>\n",
              "      <th>7</th>\n",
              "      <td>13.0</td>\n",
              "      <td>42464.597940</td>\n",
              "      <td>-2901.260598</td>\n",
              "    </tr>\n",
              "    <tr>\n",
              "      <th>8</th>\n",
              "      <td>14.0</td>\n",
              "      <td>42452.362210</td>\n",
              "      <td>-3303.487127</td>\n",
              "    </tr>\n",
              "    <tr>\n",
              "      <th>9</th>\n",
              "      <td>15.0</td>\n",
              "      <td>42440.944844</td>\n",
              "      <td>-3706.619973</td>\n",
              "    </tr>\n",
              "  </tbody>\n",
              "</table>\n",
              "</div>\n",
              "      <button class=\"colab-df-convert\" onclick=\"convertToInteractive('df-a73c83af-bf8f-4738-9de1-4fc5c9df8ebc')\"\n",
              "              title=\"Convert this dataframe to an interactive table.\"\n",
              "              style=\"display:none;\">\n",
              "        \n",
              "  <svg xmlns=\"http://www.w3.org/2000/svg\" height=\"24px\"viewBox=\"0 0 24 24\"\n",
              "       width=\"24px\">\n",
              "    <path d=\"M0 0h24v24H0V0z\" fill=\"none\"/>\n",
              "    <path d=\"M18.56 5.44l.94 2.06.94-2.06 2.06-.94-2.06-.94-.94-2.06-.94 2.06-2.06.94zm-11 1L8.5 8.5l.94-2.06 2.06-.94-2.06-.94L8.5 2.5l-.94 2.06-2.06.94zm10 10l.94 2.06.94-2.06 2.06-.94-2.06-.94-.94-2.06-.94 2.06-2.06.94z\"/><path d=\"M17.41 7.96l-1.37-1.37c-.4-.4-.92-.59-1.43-.59-.52 0-1.04.2-1.43.59L10.3 9.45l-7.72 7.72c-.78.78-.78 2.05 0 2.83L4 21.41c.39.39.9.59 1.41.59.51 0 1.02-.2 1.41-.59l7.78-7.78 2.81-2.81c.8-.78.8-2.07 0-2.86zM5.41 20L4 18.59l7.72-7.72 1.47 1.35L5.41 20z\"/>\n",
              "  </svg>\n",
              "      </button>\n",
              "      \n",
              "  <style>\n",
              "    .colab-df-container {\n",
              "      display:flex;\n",
              "      flex-wrap:wrap;\n",
              "      gap: 12px;\n",
              "    }\n",
              "\n",
              "    .colab-df-convert {\n",
              "      background-color: #E8F0FE;\n",
              "      border: none;\n",
              "      border-radius: 50%;\n",
              "      cursor: pointer;\n",
              "      display: none;\n",
              "      fill: #1967D2;\n",
              "      height: 32px;\n",
              "      padding: 0 0 0 0;\n",
              "      width: 32px;\n",
              "    }\n",
              "\n",
              "    .colab-df-convert:hover {\n",
              "      background-color: #E2EBFA;\n",
              "      box-shadow: 0px 1px 2px rgba(60, 64, 67, 0.3), 0px 1px 3px 1px rgba(60, 64, 67, 0.15);\n",
              "      fill: #174EA6;\n",
              "    }\n",
              "\n",
              "    [theme=dark] .colab-df-convert {\n",
              "      background-color: #3B4455;\n",
              "      fill: #D2E3FC;\n",
              "    }\n",
              "\n",
              "    [theme=dark] .colab-df-convert:hover {\n",
              "      background-color: #434B5C;\n",
              "      box-shadow: 0px 1px 3px 1px rgba(0, 0, 0, 0.15);\n",
              "      filter: drop-shadow(0px 1px 2px rgba(0, 0, 0, 0.3));\n",
              "      fill: #FFFFFF;\n",
              "    }\n",
              "  </style>\n",
              "\n",
              "      <script>\n",
              "        const buttonEl =\n",
              "          document.querySelector('#df-a73c83af-bf8f-4738-9de1-4fc5c9df8ebc button.colab-df-convert');\n",
              "        buttonEl.style.display =\n",
              "          google.colab.kernel.accessAllowed ? 'block' : 'none';\n",
              "\n",
              "        async function convertToInteractive(key) {\n",
              "          const element = document.querySelector('#df-a73c83af-bf8f-4738-9de1-4fc5c9df8ebc');\n",
              "          const dataTable =\n",
              "            await google.colab.kernel.invokeFunction('convertToInteractive',\n",
              "                                                     [key], {});\n",
              "          if (!dataTable) return;\n",
              "\n",
              "          const docLinkHtml = 'Like what you see? Visit the ' +\n",
              "            '<a target=\"_blank\" href=https://colab.research.google.com/notebooks/data_table.ipynb>data table notebook</a>'\n",
              "            + ' to learn more about interactive tables.';\n",
              "          element.innerHTML = '';\n",
              "          dataTable['output_type'] = 'display_data';\n",
              "          await google.colab.output.renderOutput(dataTable, element);\n",
              "          const docLink = document.createElement('div');\n",
              "          docLink.innerHTML = docLinkHtml;\n",
              "          element.appendChild(docLink);\n",
              "        }\n",
              "      </script>\n",
              "    </div>\n",
              "  </div>\n",
              "  "
            ]
          },
          "metadata": {},
          "execution_count": 7
        }
      ]
    },
    {
      "cell_type": "code",
      "source": [
        "print('Optimal Number to Overbook:',df['Overbook'][np.argmax(df['Profit'])])"
      ],
      "metadata": {
        "colab": {
          "base_uri": "https://localhost:8080/"
        },
        "id": "kX1ChKUaU7E_",
        "outputId": "24abbbe2-b039-4205-911f-c51e1575606a"
      },
      "execution_count": 8,
      "outputs": [
        {
          "output_type": "stream",
          "name": "stdout",
          "text": [
            "Optimal Number to Overbook: 9.0\n"
          ]
        }
      ]
    },
    {
      "cell_type": "code",
      "source": [
        "sns.set_style(\"darkgrid\")\n",
        "g = sns.lineplot(x = df[\"Overbook\"], y = df[\"Profit\"]).set(title = \"Policy 1\\nExpected Profit by Amount Overbooked\", ylabel = \"Expected Profit\",ylim = (42300,42500))"
      ],
      "metadata": {
        "colab": {
          "base_uri": "https://localhost:8080/",
          "height": 310
        },
        "id": "w_Fr083Nro00",
        "outputId": "02f9889f-e845-4a98-8ce5-aa6844bc3898"
      },
      "execution_count": 12,
      "outputs": [
        {
          "output_type": "display_data",
          "data": {
            "text/plain": [
              "<Figure size 432x288 with 1 Axes>"
            ],
            "image/png": "[encoded data removed]"
          },
          "metadata": {}
        }
      ]
    },
    {
      "cell_type": "code",
      "source": [
        "g = sns.barplot(x = df[\"Overbook\"], y = -df[\"Cost\"]).set(title = \"Policy 1\\nExpected Cost by Amount Overbooked\", ylabel = \"Expected Cost\")"
      ],
      "metadata": {
        "colab": {
          "base_uri": "https://localhost:8080/",
          "height": 310
        },
        "id": "zS0fOV0It6ED",
        "outputId": "0bf73a28-b3d7-46a7-de75-6c31cb86ce71"
      },
      "execution_count": 16,
      "outputs": [
        {
          "output_type": "display_data",
          "data": {
            "text/plain": [
              "<Figure size 432x288 with 1 Axes>"
            ],
            "image/png": "[encoded data removed]"
          },
          "metadata": {}
        }
      ]
    },
    {
      "cell_type": "code",
      "source": [
        "df['Cost Difference'] = -df['Cost'].diff()"
      ],
      "metadata": {
        "id": "vYC_nFH7uCzV"
      },
      "execution_count": 17,
      "outputs": []
    },
    {
      "cell_type": "code",
      "source": [
        "g = sns.lineplot(x = df[\"Overbook\"], y = df[\"Cost Difference\"]).set(title = \"Change in Expected Cost by Overbooking\", ylabel = \"Change in Expected Cost\")"
      ],
      "metadata": {
        "colab": {
          "base_uri": "https://localhost:8080/",
          "height": 295
        },
        "id": "ZPXR8BsYuSZg",
        "outputId": "e893a5b9-4cd9-4236-978f-38fcd19e955f"
      },
      "execution_count": 18,
      "outputs": [
        {
          "output_type": "display_data",
          "data": {
            "text/plain": [
              "<Figure size 432x288 with 1 Axes>"
            ],
            "image/png": "[encoded data removed]"
          },
          "metadata": {}
        }
      ]
    },
    {
      "cell_type": "markdown",
      "source": [
        "# Question 3"
      ],
      "metadata": {
        "id": "mpwLLz7SO76c"
      }
    },
    {
      "cell_type": "code",
      "source": [
        "# define overbook limit\n",
        "overbook = 20"
      ],
      "metadata": {
        "id": "1Vi2D_Qs2kP9"
      },
      "execution_count": null,
      "outputs": []
    },
    {
      "cell_type": "code",
      "source": [
        "def book_new(overbook):\n",
        "    \n",
        "    O = overbook\n",
        "    \n",
        "    priceCL = 300 # low price for coach\n",
        "    priceCH = 350 # high price for coach\n",
        "    priceFL = 425 # low price for first class\n",
        "    priceFH = 500 # high price for first class\n",
        "\n",
        "    pCL = [0.35,0.65] # demand probabilities for coach low price\n",
        "    pCH = [0.7,0.3] # demand probabilities for coach high price\n",
        "    pFL = [0.92,0.08] # demand probabilities for first class low price\n",
        "    pFH = [0.96,0.04] # demand probabilities for first class high price\n",
        "\n",
        "    bumpL = 50 # cost to bump passenger to first class\n",
        "    bumpH = 425 # cost to bump passenger off plane\n",
        "    showC = 0.95 # probability of coach passenger showing up\n",
        "    showF = 0.97 # probability of first class passenger showing up\n",
        "\n",
        "    delta = 1/(1+0.15/365) # discount rate\n",
        "\n",
        "    cValues = np.arange(C+O+1) # all possible number of coach seats left\n",
        "    fValues = np.arange(F+1) # all possible number of first class seats left\n",
        "    tValues = np.arange(T+1) # all possible days until takeoff\n",
        "\n",
        "    cN = len(cValues) # count possible state values for coach seats\n",
        "    fN = len(fValues) # count possible state values for first class seats\n",
        "    tN = len(tValues) # count possible state values for time\n",
        "    \n",
        "    V = np.zeros((cN,fN,tN)) # initialize value function\n",
        "    U = np.zeros((cN,fN,tN)) # initialize optimal choice variable\n",
        "    \n",
        "    # boundary/terminal condition\n",
        "    U[:,:,tN-1] = 0 # 0 is the value for no tickets for sale\n",
        "\n",
        "    # calculate cost\n",
        "    for c in range(cN):\n",
        "        for f in range(fN):\n",
        "            total_cost = 0\n",
        "            for i in range(c+1):\n",
        "                for j in range(f+1):\n",
        "                    if i > C:\n",
        "                        extra_space = F-j\n",
        "                        extra_passenger =  i-C\n",
        "                        if extra_space < extra_passenger:\n",
        "                            cost = (extra_passenger-extra_space)*bumpH + extra_space*bumpL\n",
        "                        else:\n",
        "                            cost = extra_passenger*bumpL\n",
        "                        prob = binom.pmf(i,c,showC)*binom.pmf(j,f,showF)\n",
        "                        total_cost += cost*prob   \n",
        "            V[c,f,tN-1] = -(total_cost)\n",
        "            \n",
        "    for t in reversed(range(tN-1)): # loop backwards in time\n",
        "        for c in range(cN): # loop over all possible coach seat values\n",
        "            for f in range(fN): # loop over all possible first class seat values\n",
        "\n",
        "                if c == cN-1 and f == fN-1: # if the coach seats and first class seats are full (0 seats left)\n",
        "                    V[c,f,t] = delta*V[c,f,t+1] # if so, you can't make any more money\n",
        "                    U[c,f,t] = 0 # no tickets for sale\n",
        "\n",
        "                elif c == cN-1 and f < fN-1:\n",
        "                    FL = (priceFL*pFL[1]) + delta*(pFL[1]*V[c,f+1,t+1] + pFL[0]*V[c,f,t+1])\n",
        "                    FH = (priceFH*pFH[1]) + delta*(pFH[1]*V[c,f+1,t+1] + pFH[0]*V[c,f,t+1])\n",
        "                    V[c,f,t] = max(FL, FH)\n",
        "                    U[c,f,t] = np.argmax([FL, FH]) + 1 # choice of price: 1 means (0, L), 2 means (0, H) \n",
        "\n",
        "                elif c < cN-1 and f == fN-1:\n",
        "                    CL = (priceCL*pCL[1]) + delta*(pCL[1]*V[c+1,f,t+1] + pCL[0]*V[c,f,t+1])\n",
        "                    CH = (priceCH*pCH[1]) + delta*(pCH[1]*V[c+1,f,t+1] + pCH[0]*V[c,f,t+1])\n",
        "                    CN = delta*V[c,f,t+1]\n",
        "                    V[c,f,t] = max(CL, CH, CN)\n",
        "                    U[c,f,t] = np.argmax([CL, CH, CN]) + 3 # choice of price: 3 means (L, 0), 4 means (H, 0), 5 means (N, 0)\n",
        "                    \n",
        "                else:\n",
        "                    CLFL = ((priceCL+priceFL)*pCL[1]*pFL[1]) + ((0+priceFL)*pCL[0]*pFL[1]) + \\\n",
        "                           ((priceCL+0)*pCL[1]*pFL[0]) + ((0+0)*pCL[0]*pFL[0]) + \\\n",
        "                            delta*((pCL[1]*pFL[1])*V[c+1,f+1,t+1]) + delta*((pCL[0]*pFL[1])*V[c,f+1,t+1]) + \\\n",
        "                            delta*((pCL[1]*pFL[0])*V[c+1,f,t+1]) + delta*((pCL[0]*pFL[0])*V[c,f,t+1]) \n",
        "\n",
        "                    CLFH = ((priceCL+priceFH)*pCL[1]*pFH[1]) + ((0+priceFH)*pCL[0]*pFH[1]) + \\\n",
        "                           ((priceCL+0)*pCL[1]*pFH[0]) + ((0+0)*pCL[0]*pFH[0]) + \\\n",
        "                            delta*((pCL[1]*pFH[1])*V[c+1,f+1,t+1]) + delta*((pCL[0]*pFH[1])*V[c,f+1,t+1]) + \\\n",
        "                            delta*((pCL[1]*pFH[0])*V[c+1,f,t+1]) + delta*((pCL[0]*pFH[0])*V[c,f,t+1])  \n",
        "\n",
        "                    CHFL = ((priceCH+priceFL)*pCH[1]*pFL[1]) + ((0+priceFL)*pCH[0]*pFL[1]) + \\\n",
        "                           ((priceCH+0)*pCH[1]*pFL[0]) + ((0+0)*pCH[0]*pFL[0]) + \\\n",
        "                            delta*((pCH[1]*pFL[1])*V[c+1,f+1,t+1]) + delta*((pCH[0]*pFL[1])*V[c,f+1,t+1]) + \\\n",
        "                            delta*((pCH[1]*pFL[0])*V[c+1,f,t+1]) + delta*((pCH[0]*pFL[0])*V[c,f,t+1]) \n",
        "\n",
        "                    CHFH = ((priceCH+priceFH)*pCH[1]*pFH[1]) + ((0+priceFH)*pCH[0]*pFH[1]) + \\\n",
        "                           ((priceCH+0)*pCH[1]*pFH[0]) + ((0+0)*pCH[0]*pFH[0]) + \\\n",
        "                            delta*((pCH[1]*pFH[1])*V[c+1,f+1,t+1]) + delta*((pCH[0]*pFH[1])*V[c,f+1,t+1]) + \\\n",
        "                            delta*((pCH[1]*pFH[0])*V[c+1,f,t+1]) + delta*((pCH[0]*pFH[0])*V[c,f,t+1])\n",
        "                    \n",
        "                    CNFH = priceFH*pFH[1] + delta*pFH[1]*V[c,f+1,t+1] + delta*pFH[0]*V[c,f,t+1]\n",
        "                    \n",
        "                    CNFL = priceFL*pFL[1] + delta*pFL[1]*V[c,f+1,t+1] + delta*pFL[0]*V[c,f,t+1]\n",
        "\n",
        "                    V[c,f,t] = max([CLFL, CLFH, CHFL, CHFH, CNFH, CNFL]) # value funciton maximizes expected revenue\n",
        "                    U[c,f,t] = np.argmax([CLFL,CLFH,CHFL,CHFH,CNFH,CNFL]) + 6 # choice of price: 6 LL, 7 LH, 8 HL, 9 HH, 10 NH, 11 NL\n",
        "                    \n",
        "    profit = V[0,0,0]\n",
        "    cost = V[c,f,tN-1]\n",
        "    \n",
        "    return profit, cost, U"
      ],
      "metadata": {
        "id": "1GDBZW142prB"
      },
      "execution_count": null,
      "outputs": []
    },
    {
      "cell_type": "code",
      "source": [
        "profit, cost, U = book_new(overbook)\n",
        "print('The profit is:',profit)\n",
        "print('The cost is:',cost)"
      ],
      "metadata": {
        "colab": {
          "base_uri": "https://localhost:8080/"
        },
        "id": "EWGBKXb91tH7",
        "outputId": "6cdd8441-ced0-416b-e7bd-d4ee2f16615f"
      },
      "execution_count": null,
      "outputs": [
        {
          "output_type": "stream",
          "name": "stdout",
          "text": [
            "The profit is: 42502.673261243785\n",
            "The cost is: -5725.001444450944\n"
          ]
        }
      ]
    },
    {
      "cell_type": "markdown",
      "source": [
        "# Question 4"
      ],
      "metadata": {
        "id": "rM9QMLZETdAI"
      }
    },
    {
      "cell_type": "code",
      "source": [
        "def simulation1(overbook, U):\n",
        "    \n",
        "    U = U\n",
        "    O = overbook\n",
        "    \n",
        "    priceCL = 300 # low price for coach\n",
        "    priceCH = 350 # high price for coach\n",
        "    priceFL = 425 # low price for first class\n",
        "    priceFH = 500 # high price for first class\n",
        "\n",
        "    pCL = [0.35,0.65] # demand probabilities for coach low price\n",
        "    pCH = [0.7,0.3] # demand probabilities for coach high price\n",
        "    pFL = [0.92,0.08] # demand probabilities for first class low price\n",
        "    pFH = [0.96,0.04] # demand probabilities for first class high price\n",
        "\n",
        "    bumpL = 50 # cost to bump passenger to first class\n",
        "    bumpH = 425 # cost to bump passenger off plane\n",
        "    showC = 0.95 # probability of coach passenger showing up\n",
        "    showF = 0.97 # probability of first class passenger showing up\n",
        "\n",
        "    delta = 1/(1+0.15/365) # discount rate\n",
        "\n",
        "    cValues = np.arange(C+O+1) # all possible number of coach seats left\n",
        "    fValues = np.arange(F+1) # all possible number of first class seats left\n",
        "    tValues = np.arange(T+1) # all possible days until takeoff\n",
        "\n",
        "    cN = len(cValues) # count possible state values for coach seats\n",
        "    fN = len(fValues) # count possible state values for first class seats\n",
        "    tN = len(tValues) # count possible state values for time\n",
        "    \n",
        "    c = 0 # coach tickets sold\n",
        "    f = 0 # first class tickets sold\n",
        "\n",
        "    showup_c = 0 # coach ticket buyers that show up\n",
        "    showup_f = 0 # first class ticket buyers that show up\n",
        "    \n",
        "    total_rev = 0\n",
        "    num_kickoff = 0\n",
        "    \n",
        "    for t in range(tN-1):\n",
        "    \n",
        "        optimal_price = U[c,f,t]\n",
        "        \n",
        "        if optimal_price == 0: # C no sale, F no sale\n",
        "            prob_c = 0\n",
        "            price_c = 0\n",
        "            prob_f = 0\n",
        "            price_f = 0\n",
        "            \n",
        "        elif optimal_price == 1: # C no sale, F low price\n",
        "            prob_c = 0\n",
        "            price_c = 0\n",
        "            prob_f = pFL[1]\n",
        "            price_f = priceFL\n",
        "\n",
        "        elif optimal_price == 2: # C no sale, F high price\n",
        "            prob_c = 0\n",
        "            price_c = 0\n",
        "            prob_f = pFH[1]\n",
        "            price_f = priceFH\n",
        "            \n",
        "        elif optimal_price == 3: # C low price, F no sale\n",
        "            prob_c = pCL[1]\n",
        "            price_c = priceCL\n",
        "            prob_f = 0\n",
        "            price_f = 0\n",
        "            \n",
        "        elif optimal_price == 4: # C high price, F no sale\n",
        "            prob_c = pCH[1]\n",
        "            price_c = priceCH\n",
        "            prob_f = 0\n",
        "            price_f = 0\n",
        "            \n",
        "        elif optimal_price == 5: # C low price, F low sale\n",
        "            prob_c = pCL[1]\n",
        "            price_c = priceCL\n",
        "            prob_f = pFL[1]\n",
        "            price_f = priceFL\n",
        "            \n",
        "        elif optimal_price == 6: # C low price, F high sale\n",
        "            prob_c = pCL[1]\n",
        "            price_c = priceCL\n",
        "            prob_f = pFH[1]\n",
        "            price_f = priceFH\n",
        "            \n",
        "        elif optimal_price == 7: # C high price, F low sale\n",
        "            prob_c = pCH[1]\n",
        "            price_c = priceCH\n",
        "            prob_f = pFL[1]\n",
        "            price_f = priceFL\n",
        "            \n",
        "        else: # C high price, F high sale\n",
        "            prob_c = pCH[1]\n",
        "            price_c = priceCH\n",
        "            prob_f = pFH[1]\n",
        "            price_f = priceFH\n",
        "            \n",
        "        # is ticket sold?\n",
        "        sale_c = (np.random.random(1) < prob_c) \n",
        "        sale_f = (np.random.random(1) < prob_f)\n",
        "\n",
        "        total_rev += (sale_f*price_f + sale_c*price_c)*delta**(t)  # add up discounted revenues\n",
        "        \n",
        "        # did passenger show up?\n",
        "        if sale_c == True:\n",
        "            show_c = (np.random.random(1) < showC)\n",
        "            showup_c = int(showup_c + show_c)\n",
        "        if sale_f == True:\n",
        "            show_f = (np.random.random(1) < showF)\n",
        "            showup_f = int(showup_f + show_f)\n",
        "        \n",
        "        c = int(c+sale_c)  # total coach sold\n",
        "        f = int(f+sale_f)  # total first class sold\n",
        "        \n",
        "    if showup_c > C:\n",
        "        extra_space = F-showup_f\n",
        "        extra_passenger = showup_c - C\n",
        "        if extra_space < extra_passenger:\n",
        "            cost = (extra_passenger-extra_space)*bumpH + extra_space*bumpL\n",
        "            num_kickoff = extra_passenger-extra_space\n",
        "        else:\n",
        "            cost = extra_passenger*bumpL\n",
        "            num_kickoff = extra_passenger\n",
        "    else:\n",
        "        cost = 0\n",
        "        \n",
        "    profit = total_rev - cost*delta\n",
        "    \n",
        "    return c, f, num_kickoff, total_rev, cost, profit"
      ],
      "metadata": {
        "id": "Z0af4sP92yWT"
      },
      "execution_count": null,
      "outputs": []
    },
    {
      "cell_type": "code",
      "source": [
        "nsim = 10000\n",
        "\n",
        "overbook_vec_1 = np.array([False]*nsim)\n",
        "kickoff_vec_1 = np.array([False]*nsim)\n",
        "overbook_cost_vec_1 = np.zeros(nsim)\n",
        "discount_profits_vec_1 = np.zeros(nsim)\n",
        "\n",
        "overbook = df['Overbook'][np.argmax(df['Profit'])]\n",
        "profit, cost, U = book(overbook)\n",
        "\n",
        "for sim in range(nsim):\n",
        "    c, f, num_kickoff, total_rev, total_cost, profit = simulation1(overbook, U)\n",
        "    \n",
        "    if c > C:\n",
        "        overbook_vec_1[sim] = True\n",
        "        \n",
        "    if num_kickoff > 0:\n",
        "        kickoff_vec_1[sim] = True\n",
        "        \n",
        "    overbook_cost_vec_1[sim] = total_cost\n",
        "    \n",
        "    discount_profits_vec_1[sim] = profit"
      ],
      "metadata": {
        "id": "74x7DXLg21Sk"
      },
      "execution_count": null,
      "outputs": []
    },
    {
      "cell_type": "code",
      "source": [
        "np.mean(overbook_cost_vec_1)"
      ],
      "metadata": {
        "colab": {
          "base_uri": "https://localhost:8080/"
        },
        "id": "egwhmxIW5Swe",
        "outputId": "74a6f8b5-d42b-46bb-c29b-aa8536ec754c"
      },
      "execution_count": null,
      "outputs": [
        {
          "output_type": "execute_result",
          "data": {
            "text/plain": [
              "965.73"
            ]
          },
          "metadata": {},
          "execution_count": 137
        }
      ]
    },
    {
      "cell_type": "code",
      "source": [
        "g = sns.histplot(overbook_cost_vec_1).set(title = \"Policy 1\\nDistribution of Overbooking Cost\", xlabel = \"Overbooking Cost\")"
      ],
      "metadata": {
        "colab": {
          "base_uri": "https://localhost:8080/",
          "height": 310
        },
        "id": "3QgcH_t-4Nx4",
        "outputId": "98388fed-846d-41a4-8130-c98f225a0819"
      },
      "execution_count": null,
      "outputs": [
        {
          "output_type": "display_data",
          "data": {
            "text/plain": [
              "<Figure size 432x288 with 1 Axes>"
            ],
            "image/png": "[encoded data removed]"
          },
          "metadata": {
            "needs_background": "light"
          }
        }
      ]
    },
    {
      "cell_type": "code",
      "source": [
        "g = sns.histplot(discount_profits_vec_1).set(title = \"Policy 1\\nDistribution of Discounted Profits\", xlabel = \"Discounted Profits\")\n",
        "plt.axvline(np.mean(discount_profits_vec_1), color='green')\n",
        "plt.axvline(np.mean(discount_profits_vec_1) + np.std(discount_profits_vec_1) , color='red')\n",
        "plt.axvline(np.mean(discount_profits_vec_1) - np.std(discount_profits_vec_1) , color='red')"
      ],
      "metadata": {
        "colab": {
          "base_uri": "https://localhost:8080/",
          "height": 327
        },
        "id": "dMRa4VdL6Nu1",
        "outputId": "a7f4456e-0493-4473-a3f9-53bce352a7dd"
      },
      "execution_count": null,
      "outputs": [
        {
          "output_type": "execute_result",
          "data": {
            "text/plain": [
              "<matplotlib.lines.Line2D at 0x7f83b6f11050>"
            ]
          },
          "metadata": {},
          "execution_count": 146
        },
        {
          "output_type": "display_data",
          "data": {
            "text/plain": [
              "<Figure size 432x288 with 1 Axes>"
            ],
            "image/png": "[encoded data removed]"
          },
          "metadata": {
            "needs_background": "light"
          }
        }
      ]
    },
    {
      "cell_type": "code",
      "source": [
        "np.std(discount_profits_vec_1)"
      ],
      "metadata": {
        "colab": {
          "base_uri": "https://localhost:8080/"
        },
        "id": "ErRmPTHm6lpK",
        "outputId": "ea3f69a1-88ec-499a-f30c-16265f2f52d5"
      },
      "execution_count": null,
      "outputs": [
        {
          "output_type": "execute_result",
          "data": {
            "text/plain": [
              "1004.9958875612853"
            ]
          },
          "metadata": {},
          "execution_count": 147
        }
      ]
    },
    {
      "cell_type": "code",
      "source": [
        "np.mean(discount_profits_vec_1)"
      ],
      "metadata": {
        "colab": {
          "base_uri": "https://localhost:8080/"
        },
        "id": "7S6avQPu6rZr",
        "outputId": "e3b2ce4c-948f-4ffe-c01b-9e85b7ade2cc"
      },
      "execution_count": null,
      "outputs": [
        {
          "output_type": "execute_result",
          "data": {
            "text/plain": [
              "42355.16156905784"
            ]
          },
          "metadata": {},
          "execution_count": 148
        }
      ]
    },
    {
      "cell_type": "code",
      "source": [
        "print(\"Percentage coach is overbooked: \", np.mean(overbook_vec_1))\n",
        "print(\"Percentage someone is kicked off the plane: \", np.mean(kickoff_vec_1))"
      ],
      "metadata": {
        "colab": {
          "base_uri": "https://localhost:8080/"
        },
        "id": "-5RJmisv8L9_",
        "outputId": "7fa6a948-47cc-44c9-9150-99292893a3e2"
      },
      "execution_count": null,
      "outputs": [
        {
          "output_type": "stream",
          "name": "stdout",
          "text": [
            "Percentage coach is overbooked:  1.0\n",
            "Percentage someone is kicked off the plane:  0.8247\n"
          ]
        }
      ]
    },
    {
      "cell_type": "code",
      "source": [
        "overbook = 20"
      ],
      "metadata": {
        "id": "Uf2lVIpD8wdt"
      },
      "execution_count": null,
      "outputs": []
    },
    {
      "cell_type": "code",
      "source": [
        "def simulation2(overbook, U):\n",
        "    \n",
        "    U = U\n",
        "    O = overbook\n",
        "    \n",
        "    priceCL = 300 # low price for coach\n",
        "    priceCH = 350 # high price for coach\n",
        "    priceFL = 425 # low price for first class\n",
        "    priceFH = 500 # high price for first class\n",
        "\n",
        "    pCL = [0.35,0.65] # demand probabilities for coach low price\n",
        "    pCH = [0.7,0.3] # demand probabilities for coach high price\n",
        "    pFL = [0.92,0.08] # demand probabilities for first class low price\n",
        "    pFH = [0.96,0.04] # demand probabilities for first class high price\n",
        "\n",
        "    bumpL = 50 # cost to bump passenger to first class\n",
        "    bumpH = 425 # cost to bump passenger off plane\n",
        "    showC = 0.95 # probability of coach passenger showing up\n",
        "    showF = 0.97 # probability of first class passenger showing up\n",
        "\n",
        "    delta = 1/(1+0.15/365) # discount rate\n",
        "\n",
        "    cValues = np.arange(C+O+1) # all possible number of coach seats left\n",
        "    fValues = np.arange(F+1) # all possible number of first class seats left\n",
        "    tValues = np.arange(T+1) # all possible days until takeoff\n",
        "\n",
        "    cN = len(cValues) # count possible state values for coach seats\n",
        "    fN = len(fValues) # count possible state values for first class seats\n",
        "    tN = len(tValues) # count possible state values for time\n",
        "    \n",
        "    c = 0 # coach tickets sold\n",
        "    f = 0 # first class tickets sold\n",
        "\n",
        "    showup_c = 0 # coach ticket buyers that show up\n",
        "    showup_f = 0 # first class ticket buyers that show up\n",
        "    \n",
        "    total_rev = 0\n",
        "    num_kickoff = 0\n",
        "    \n",
        "    for t in range(tN-1):\n",
        "    \n",
        "        optimal_price = U[c,f,t]\n",
        "        \n",
        "        if optimal_price == 0: # C no sale, F no sale\n",
        "            prob_c = 0\n",
        "            price_c = 0\n",
        "            prob_f = 0\n",
        "            price_f = 0\n",
        "            \n",
        "        elif optimal_price == 1: # C no sale, F low price\n",
        "            prob_c = 0\n",
        "            price_c = 0\n",
        "            prob_f = pFL[1]\n",
        "            price_f = priceFL\n",
        "\n",
        "        elif optimal_price == 2: # C no sale, F high price\n",
        "            prob_c = 0\n",
        "            price_c = 0\n",
        "            prob_f = pFH[1]\n",
        "            price_f = priceFH\n",
        "            \n",
        "        elif optimal_price == 3: # C low price, F no sale\n",
        "            prob_c = pCL[1]\n",
        "            price_c = priceCL\n",
        "            prob_f = 0\n",
        "            price_f = 0\n",
        "            \n",
        "        elif optimal_price == 4: # C high price, F no sale\n",
        "            prob_c = pCH[1]\n",
        "            price_c = priceCH\n",
        "            prob_f = 0\n",
        "            price_f = 0\n",
        "            \n",
        "        elif optimal_price == 5: # C no sale, F no sale\n",
        "            prob_c = 0\n",
        "            price_c = 0\n",
        "            prob_f = 0\n",
        "            price_f = 0\n",
        "            \n",
        "        elif optimal_price == 6: # C low price, F low sale\n",
        "            prob_c = pCL[1]\n",
        "            price_c = priceCL\n",
        "            prob_f = pFL[1]\n",
        "            price_f = priceFL\n",
        "            \n",
        "        elif optimal_price == 7: # C low price, F high sale\n",
        "            prob_c = pCL[1]\n",
        "            price_c = priceCL\n",
        "            prob_f = pFH[1]\n",
        "            price_f = priceFH\n",
        "            \n",
        "        elif optimal_price == 8: # C high price, F low sale\n",
        "            prob_c = pCH[1]\n",
        "            price_c = priceCH\n",
        "            prob_f = pFL[1]\n",
        "            price_f = priceFL\n",
        "            \n",
        "        elif optimal_price == 9: # C high price, F high sale\n",
        "            prob_c = pCH[1]\n",
        "            price_c = priceCH\n",
        "            prob_f = pFH[1]\n",
        "            price_f = priceFH\n",
        "            \n",
        "        elif optimal_price == 10: # C no sale, F high price\n",
        "            prob_c = 0\n",
        "            price_c = 0\n",
        "            prob_f = pFH[1]\n",
        "            price_f = priceFH\n",
        "\n",
        "        else: # C no sale, F low price\n",
        "            prob_c = 0\n",
        "            price_c = 0\n",
        "            prob_f = pFL[1]\n",
        "            price_f = priceFL\n",
        "            \n",
        "        # is ticket sold?\n",
        "        sale_c = (np.random.random(1) < prob_c) \n",
        "        sale_f = (np.random.random(1) < prob_f)\n",
        "\n",
        "        total_rev += (sale_f*price_f + sale_c*price_c)*delta**(t)  # add up discounted revenues\n",
        "        \n",
        "        # did passenger show up?\n",
        "        if sale_c == True:\n",
        "            show_c = (np.random.random(1) < showC)\n",
        "            showup_c = int(showup_c + show_c)\n",
        "        if sale_f == True:\n",
        "            show_f = (np.random.random(1) < showF)\n",
        "            showup_f = int(showup_f + show_f)\n",
        "        \n",
        "        c = int(c+sale_c)  # total coach sold\n",
        "        f = int(f+sale_f)  # total first class sold\n",
        "        \n",
        "    if showup_c > C:\n",
        "        extra_space = F-showup_f\n",
        "        extra_passenger = showup_c - C\n",
        "        if extra_space < extra_passenger:\n",
        "            cost = (extra_passenger-extra_space)*bumpH + extra_space*bumpL\n",
        "            num_kickoff = extra_passenger-extra_space\n",
        "        else:\n",
        "            cost = extra_passenger*bumpL\n",
        "            num_kickoff = extra_passenger\n",
        "    else:\n",
        "        cost = 0\n",
        "        \n",
        "    profit = total_rev - cost*delta\n",
        "    \n",
        "    return c, f, num_kickoff, total_rev, cost, profit"
      ],
      "metadata": {
        "id": "vvcLH-qZ81Tb"
      },
      "execution_count": null,
      "outputs": []
    },
    {
      "cell_type": "code",
      "source": [
        "nsim = 10000\n",
        "\n",
        "overbook_vec_2 = np.array([False]*nsim)\n",
        "kickoff_vec_2 = np.array([False]*nsim)\n",
        "overbook_cost_vec_2 = np.zeros(nsim)\n",
        "discount_profits_vec_2 = np.zeros(nsim)\n",
        "\n",
        "profit, cost, U = book_new(overbook)\n",
        "\n",
        "for sim in range(nsim):\n",
        "    c, f, num_kickoff, total_rev, total_cost, profit = simulation2(overbook, U)\n",
        "    \n",
        "    if c > C:\n",
        "        overbook_vec_2[sim] = True\n",
        "        \n",
        "    if num_kickoff > 0:\n",
        "        kickoff_vec_2[sim] = True\n",
        "        \n",
        "    overbook_cost_vec_2[sim] = total_cost\n",
        "    \n",
        "    discount_profits_vec_2[sim] = profit"
      ],
      "metadata": {
        "id": "3Tg0cQyi83mL"
      },
      "execution_count": null,
      "outputs": []
    },
    {
      "cell_type": "code",
      "source": [
        "np.mean(overbook_cost_vec_2)"
      ],
      "metadata": {
        "colab": {
          "base_uri": "https://localhost:8080/"
        },
        "outputId": "fd9bc3d4-f026-4ca9-e2ee-817f0c9f05e3",
        "id": "4LsPTJZm9W83"
      },
      "execution_count": null,
      "outputs": [
        {
          "output_type": "execute_result",
          "data": {
            "text/plain": [
              "1005.31"
            ]
          },
          "metadata": {},
          "execution_count": 153
        }
      ]
    },
    {
      "cell_type": "code",
      "source": [
        "g = sns.histplot(overbook_cost_vec_2).set(title = \"Policy 2\\nDistribution of Overbooking Cost\", xlabel = \"Overbooking Cost\")\n"
      ],
      "metadata": {
        "colab": {
          "base_uri": "https://localhost:8080/",
          "height": 310
        },
        "outputId": "be438590-6b0f-4513-fabc-e58138e12aa6",
        "id": "0kbpM_KI9W83"
      },
      "execution_count": null,
      "outputs": [
        {
          "output_type": "display_data",
          "data": {
            "text/plain": [
              "<Figure size 432x288 with 1 Axes>"
            ],
            "image/png": "[encoded data removed]"
          },
          "metadata": {
            "needs_background": "light"
          }
        }
      ]
    },
    {
      "cell_type": "code",
      "source": [
        "g = sns.histplot(discount_profits_vec_2).set(title = \"Policy 2\\nDistribution of Discounted Profits\", xlabel = \"Discounted Profits\")\n",
        "plt.axvline(np.mean(discount_profits_vec_2), color='green')\n",
        "plt.axvline(np.mean(discount_profits_vec_2) + np.std(discount_profits_vec_2) , color='red')\n",
        "plt.axvline(np.mean(discount_profits_vec_2) - np.std(discount_profits_vec_2) , color='red')"
      ],
      "metadata": {
        "colab": {
          "base_uri": "https://localhost:8080/",
          "height": 327
        },
        "outputId": "11bae9e3-2156-48cc-87ba-11ec4ea57b8e",
        "id": "-fOb2oZt9W84"
      },
      "execution_count": null,
      "outputs": [
        {
          "output_type": "execute_result",
          "data": {
            "text/plain": [
              "<matplotlib.lines.Line2D at 0x7f83b6f8a550>"
            ]
          },
          "metadata": {},
          "execution_count": 155
        },
        {
          "output_type": "display_data",
          "data": {
            "text/plain": [
              "<Figure size 432x288 with 1 Axes>"
            ],
            "image/png": "[encoded data removed]"
          },
          "metadata": {
            "needs_background": "light"
          }
        }
      ]
    },
    {
      "cell_type": "code",
      "source": [
        "np.std(discount_profits_vec_2)"
      ],
      "metadata": {
        "colab": {
          "base_uri": "https://localhost:8080/"
        },
        "outputId": "2d9ec6cc-b1b4-46b4-8077-1b84cd624662",
        "id": "nqpXUF8A9W84"
      },
      "execution_count": null,
      "outputs": [
        {
          "output_type": "execute_result",
          "data": {
            "text/plain": [
              "1018.0937944503106"
            ]
          },
          "metadata": {},
          "execution_count": 156
        }
      ]
    },
    {
      "cell_type": "code",
      "source": [
        "np.mean(discount_profits_vec_2)"
      ],
      "metadata": {
        "colab": {
          "base_uri": "https://localhost:8080/"
        },
        "outputId": "c139fc22-e4a2-4f81-876a-b300ebff77d2",
        "id": "Z3BdY-js9W84"
      },
      "execution_count": null,
      "outputs": [
        {
          "output_type": "execute_result",
          "data": {
            "text/plain": [
              "42361.94959751489"
            ]
          },
          "metadata": {},
          "execution_count": 157
        }
      ]
    },
    {
      "cell_type": "code",
      "source": [
        "print(\"Percentage coach is overbooked: \", np.mean(overbook_vec_2))\n",
        "print(\"Percentage someone is kicked off the plane: \", np.mean(kickoff_vec_2))"
      ],
      "metadata": {
        "colab": {
          "base_uri": "https://localhost:8080/"
        },
        "outputId": "aafbd459-b0bb-48e4-ccd4-e4c81152de35",
        "id": "OnU6Cxj39W84"
      },
      "execution_count": null,
      "outputs": [
        {
          "output_type": "stream",
          "name": "stdout",
          "text": [
            "Percentage coach is overbooked:  1.0\n",
            "Percentage someone is kicked off the plane:  0.8273\n"
          ]
        }
      ]
    }
  ]
}