{
  "nbformat": 4,
  "nbformat_minor": 0,
  "metadata": {
    "colab": {
      "name": "Shehzad's First Tryipynb",
      "provenance": [],
      "collapsed_sections": []
    },
    "kernelspec": {
      "name": "python3",
      "display_name": "Python 3"
    },
    "language_info": {
      "name": "python"
    }
  },
  "cells": [
    {
      "cell_type": "code",
      "execution_count": null,
      "metadata": {
        "id": "5ZEKB_eDh8sy"
      },
      "outputs": [],
      "source": [
        "import pandas as pd\n",
        "import numpy as np\n",
        "import matplotlib.pyplot as plt\n",
        "%matplotlib inline\n",
        "from scipy.stats import binom"
      ]
    },
    {
      "cell_type": "markdown",
      "source": [
        "## Part 1"
      ],
      "metadata": {
        "id": "ewWU_tq9iGnI"
      }
    },
    {
      "cell_type": "code",
      "source": [
        "# Number of seats available for \n",
        "FClassSeats = 20 \n",
        "CoachSeats = 105\n",
        "Time = 365 \n",
        "\n",
        "#Coach low/high price\n",
        "CoachLow = 300\n",
        "CoachHigh = 350\n",
        "\n",
        "#First class low/high price\n",
        "fClassLow = 425\n",
        "fClassHigh = 500\n",
        "\n",
        "coachLowProbSell = .65\n",
        "coachLowProbNoSell = 35\n",
        "coachHighProbSell = .30\n",
        "coachHighProbNoSell = .70\n",
        "\n",
        "fClassLowProbSell = .08\n",
        "fClassLowProbNoSell = .92\n",
        "fClassHighProbSell = .04\n",
        "fClassHighProbNoSell = .96\n",
        "\n",
        "coachArrival = .95\n",
        "fClassArrival = .97\n",
        "\n",
        "delta = 1/(1+0.15/365)\n",
        "\n",
        "fClassValues = np.arange(FClassSeats+1)\n",
        "coachValues = np.arange(CoachSeats+1)\n",
        "timeValues = np.arrange(Time + 1)\n",
        "\n",
        "fN = len(fClassValues) \n",
        "cN = len(coachValues)\n",
        "tN = len(timeValues)\n"
      ],
      "metadata": {
        "id": "H6jfmgqciGKc"
      },
      "execution_count": null,
      "outputs": []
    },
    {
      "cell_type": "code",
      "source": [
        "V = np.zeros((fN,cN,tN))\n",
        "U = np.zeros((fN,cN,tN))\n",
        "\n",
        "V[:,:,tN-1] = 0\n",
        "U[:,:,tN-1] = 0"
      ],
      "metadata": {
        "id": "otDUmoh4owQO"
      },
      "execution_count": null,
      "outputs": []
    },
    {
      "cell_type": "code",
      "source": [
        ""
      ],
      "metadata": {
        "id": "RVxDWA0Rxkuf"
      },
      "execution_count": null,
      "outputs": []
    },
    {
      "cell_type": "code",
      "source": [
        "for i in coachValues:\n",
        "  for j in fClassValues:\n",
        "    if i < 100:\n",
        "      cost = 0\n",
        "    else:\n",
        "      V[i,j,tN] = ## Struggling with the expected cost \n"
      ],
      "metadata": {
        "id": "_AvmMKeBqDuJ"
      },
      "execution_count": null,
      "outputs": []
    },
    {
      "cell_type": "code",
      "source": [
        "for ti in reversed(range(tN-1)):\n",
        "  for ci in range(cN):\n",
        "    for fi in range(fN):\n",
        "\n",
        "      if ci == 0 and fi == 0:\n",
        "        V[ci,fi,ti] = 0\n",
        "        U[ci,fi,ti] = 0\n",
        "\n",
        "      else if ci != 0 and fi == 0:\n",
        "        coachLowValue = (coachLow*coachLowProbSell) + delta(coachLowProbSell*V[ci-1,fi,ti+1] + coachLowPorbNoSell*V[ci,fi,ti+1])\n",
        "        coachHighValue = (coachHigh*coachHighProbSell) + delta(coachHighProbSell*V[ci-1,fi,ti+1] + coachHighPorbNoSell*V[ci,fi,ti+1])\n",
        "        V[ci,fi,ti] = max(coachLowValue, coachHighValue)\n",
        "        U[ci,fi,ti] = np.argmax([coachLowValue,coachHighValue])\n",
        "\n",
        "      else if ci == 0 and fi != 0:\n",
        "        fClassLowValue = (fClassLow*fClassLowProbSell) + delta(fClassLowProbSell*V[ci-1,fi,ti+1] + fClassLowPorbNoSell*V[ci,fi,ti+1])\n",
        "        fClassHighValue = (fClassHigh*fClassHighProbSell) + delta(fClassHighProbSell*V[ci-1,fi,ti+1] + fClassHighPorbNoSell*V[ci,fi,ti+1])\n",
        "        V[ci,fi,ti] = max(fClassLowValue, fClassHighValue)\n",
        "        U[ci,fi,ti] = np.argmax([fClassLowValue,fClassHighValue])\n",
        "\n",
        "      else:\n",
        "        valueHH = (coachHigh*coachHighProbSell) +(fClassHigh*fClassHighProbSell) + (delta*(fClassHighProbSell*coachHighProbSell*V[ci+1,fi+1,ti+1]) + \n",
        "                                                                                    (fClassHighProbSell * coachHighProbNoSell *V[ci,fi+1,ti+1]) + \n",
        "                                                                                    (fClassHighProbNoSell * coachHighProbSell * V[ci+1,fi,ti+1]) + \n",
        "                                                                                    (fClassHighProbNoSell * coachHighProbNoSell * V[ci,fi,ti+1]))\n",
        "        valueHL = (coachHigh*coachHighProbSell) +(fClassLow*fClassLowProbSell) + (delta*(fClassLowProbSell*coachHighProbSell*V[ci+1,fi+1,ti+1]) + \n",
        "                                                                                    (fClassLowProbSell * coachHighProbNoSell *V[ci,fi+1,ti+1]) + \n",
        "                                                                                    (fClassLowProbNoSell * coachHighProbSell * V[ci+1,fi,ti+1]) + \n",
        "                                                                                    (fClassLowProbNoSell * coachHighProbNoSell * V[ci,fi,ti+1]))\n",
        "        valueLH = (coachLow*coachLowProbSell) +(fClassHigh*fClassHighProbSell) + (delta*(fClassHighProbSell*coachLowProbSell*V[ci+1,fi+1,ti+1]) + \n",
        "                                                                                    (fClassHighProbSell * coachLowProbNoSell *V[ci,fi+1,ti+1]) + \n",
        "                                                                                    (fClassHighProbNoSell * coachLowProbSell * V[ci+1,fi,ti+1]) + \n",
        "                                                                                    (fClassHighProbNoSell * coachLowProbNoSell * V[ci,fi,ti+1]))\n",
        "        valueLL = (coachLow*coachLowProbSell) +(fClassLow*fClassLowProbSell) + (delta*(fClassLowProbSell*coachLowProbSell*V[ci+1,fi+1,ti+1]) + \n",
        "                                                                                    (fClassLowProbSell * coachLowProbNoSell *V[ci,fi+1,ti+1]) + \n",
        "                                                                                    (fClassLowProbNoSell * coachLowProbSell * V[ci+1,fi,ti+1]) + \n",
        "                                                                                    (fClassLowProbNoSell * coachLowProbNoSell * V[ci,fi,ti+1]))\n",
        "      V[ci,fi,ti] = max(valueHH, valueHL,valueLH,valueLL)\n",
        "      U[ci,fi,ti] = np.argmax([valueHH, valueHL,valueLH,valueLL])"
      ],
      "metadata": {
        "id": "XBtRth5zpQ7U"
      },
      "execution_count": null,
      "outputs": []
    }
  ]
}