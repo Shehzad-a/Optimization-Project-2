{
  "nbformat": 4,
  "nbformat_minor": 0,
  "metadata": {
    "colab": {
      "name": "Project2_Optimization2_AirPriceBooking.ipynb",
      "provenance": []
    },
    "kernelspec": {
      "name": "python3",
      "display_name": "Python 3"
    },
    "language_info": {
      "name": "python"
    }
  },
  "cells": [
    {
      "cell_type": "code",
      "execution_count": 1,
      "metadata": {
        "id": "EWlZAdSmh0cK"
      },
      "outputs": [],
      "source": [
        "import numpy as np\n",
        "import pandas as pd\n",
        "\n",
        "import matplotlib.pyplot as plt\n",
        "import seaborn as sns"
      ]
    },
    {
      "cell_type": "markdown",
      "source": [
        "Two pronged/step problem with two independent distribution to solve\n",
        "\n",
        "1) Pricing distribution for the coach and First class compartments are independent of each other so those can be solved independently as two separate DPs\n",
        "\n",
        "2) We intend to come up with a best strategy for maximizing the revenue problem\n",
        "\n",
        "3) For the entire solution space (time from 0 to 365 days and seats availaibe) we intend to only consider the revenue section of the problem \n",
        "\n",
        "\n",
        "\n",
        "> As the cost (overbooking cost) section of the problem will only surface on the 0th day \n",
        "\n",
        "\n",
        "I will start with solving the two separate DP for coach and first class compartment \n",
        "\n"
      ],
      "metadata": {
        "id": "ftu8cJw8iDsX"
      }
    },
    {
      "cell_type": "markdown",
      "source": [
        "# COACH Compartment \n",
        "\n",
        "Specifications\n",
        "\n",
        "<table>\n",
        " <tr>\n",
        " <th>Price</th>\n",
        " <th>Probability of selling</th>\n",
        " <th>Probability of not selling</th>\n",
        " </tr>\n",
        "\n",
        " <tr>\n",
        " <th>350 H</th>\n",
        " <td>0.3</td>\n",
        " <td>0.7</td>\n",
        " </tr>\n",
        "\n",
        " <tr>\n",
        " <th>300 L</th>\n",
        " <td>0.65</td>\n",
        " <td>0.35</td>\n",
        " </tr>\n",
        "\n",
        "\n",
        " </table>\n",
        " </tr>\n",
        "\n",
        " Number of seats = 100\n",
        " Number of days=365\n",
        " Overbooking allowed =5 \n",
        "\n",
        " Therefore seat will have a domain of 100 to 1 + 0,-1,-2,-3,-4\n",
        "\n",
        "\n",
        "\n",
        " # First Class\n",
        "\n",
        "Specifications\n",
        "\n",
        "<table>\n",
        " <tr>\n",
        " <th>Price</th>\n",
        " <th>Probability of selling</th>\n",
        " <th>Probability of not selling</th>\n",
        " </tr>\n",
        "\n",
        " <tr>\n",
        " <th>425 H</th>\n",
        " <td>0.08</td>\n",
        " <td>0.92</td>\n",
        " </tr>\n",
        "\n",
        " <tr>\n",
        " <th>500 L</th>\n",
        " <td>0.04</td>\n",
        " <td>0.96</td>\n",
        " </tr>\n",
        "\n",
        "\n",
        " </table>\n",
        " </tr>\n",
        "\n",
        " Number of seats = 20\n",
        " Number of days=365\n",
        "\n"
      ],
      "metadata": {
        "id": "ykOsCxlwkHwe"
      }
    },
    {
      "cell_type": "code",
      "source": [
        ""
      ],
      "metadata": {
        "id": "Xxf9ABKiCnXD"
      },
      "execution_count": 1,
      "outputs": []
    },
    {
      "cell_type": "code",
      "source": [
        "overbooking_coach=5\n",
        "overbooking_firstClass=0\n",
        "\n",
        "flight_specifics={\n",
        "    'coach': dict(\n",
        "        priceL = 300,\n",
        "        priceH = 350,\n",
        "        pL = {\n",
        "            'Y':0.65,\n",
        "            'N':0.35\n",
        "              }, \n",
        "        pH = {\n",
        "            'Y':0.3,\n",
        "            'N':0.7\n",
        "              }, \n",
        "        seats=100,\n",
        "        days=365,\n",
        "        overbooking=overbooking_coach\n",
        "        ),\n",
        "\n",
        "    'firstClass':dict(\n",
        "        priceL = 425,\n",
        "        priceH = 500,\n",
        "        pL = {\n",
        "            'Y':0.08,\n",
        "            'N':0.92\n",
        "              },\n",
        "        pH = {\n",
        "            'Y':0.04,\n",
        "            'N':0.96\n",
        "              },\n",
        "        seats=20,\n",
        "        days=365,\n",
        "        overbooking=overbooking_firstClass        \n",
        "                    )}\n",
        "pd.DataFrame(flight_specifics)"
      ],
      "metadata": {
        "colab": {
          "base_uri": "https://localhost:8080/",
          "height": 268
        },
        "id": "5vAPZKeIChma",
        "outputId": "1f8861f5-31ef-4938-d1ea-bed092ffdaf5"
      },
      "execution_count": 2,
      "outputs": [
        {
          "output_type": "execute_result",
          "data": {
            "text/plain": [
              "                  coach    firstClass\n",
              "priceL              300           425\n",
              "priceH              350           500\n",
              "pL           [0.3, 0.7]  [0.08, 0.92]\n",
              "pH           [0.6, 0.4]  [0.04, 0.96]\n",
              "seats               100            20\n",
              "days                365           365\n",
              "overbooking           5             0"
            ],
            "text/html": [
              "\n",
              "  <div id=\"df-21a2e4f8-1692-451e-87c0-3e95fec853a8\">\n",
              "    <div class=\"colab-df-container\">\n",
              "      <div>\n",
              "<style scoped>\n",
              "    .dataframe tbody tr th:only-of-type {\n",
              "        vertical-align: middle;\n",
              "    }\n",
              "\n",
              "    .dataframe tbody tr th {\n",
              "        vertical-align: top;\n",
              "    }\n",
              "\n",
              "    .dataframe thead th {\n",
              "        text-align: right;\n",
              "    }\n",
              "</style>\n",
              "<table border=\"1\" class=\"dataframe\">\n",
              "  <thead>\n",
              "    <tr style=\"text-align: right;\">\n",
              "      <th></th>\n",
              "      <th>coach</th>\n",
              "      <th>firstClass</th>\n",
              "    </tr>\n",
              "  </thead>\n",
              "  <tbody>\n",
              "    <tr>\n",
              "      <th>priceL</th>\n",
              "      <td>300</td>\n",
              "      <td>425</td>\n",
              "    </tr>\n",
              "    <tr>\n",
              "      <th>priceH</th>\n",
              "      <td>350</td>\n",
              "      <td>500</td>\n",
              "    </tr>\n",
              "    <tr>\n",
              "      <th>pL</th>\n",
              "      <td>[0.3, 0.7]</td>\n",
              "      <td>[0.08, 0.92]</td>\n",
              "    </tr>\n",
              "    <tr>\n",
              "      <th>pH</th>\n",
              "      <td>[0.6, 0.4]</td>\n",
              "      <td>[0.04, 0.96]</td>\n",
              "    </tr>\n",
              "    <tr>\n",
              "      <th>seats</th>\n",
              "      <td>100</td>\n",
              "      <td>20</td>\n",
              "    </tr>\n",
              "    <tr>\n",
              "      <th>days</th>\n",
              "      <td>365</td>\n",
              "      <td>365</td>\n",
              "    </tr>\n",
              "    <tr>\n",
              "      <th>overbooking</th>\n",
              "      <td>5</td>\n",
              "      <td>0</td>\n",
              "    </tr>\n",
              "  </tbody>\n",
              "</table>\n",
              "</div>\n",
              "      <button class=\"colab-df-convert\" onclick=\"convertToInteractive('df-21a2e4f8-1692-451e-87c0-3e95fec853a8')\"\n",
              "              title=\"Convert this dataframe to an interactive table.\"\n",
              "              style=\"display:none;\">\n",
              "        \n",
              "  <svg xmlns=\"http://www.w3.org/2000/svg\" height=\"24px\"viewBox=\"0 0 24 24\"\n",
              "       width=\"24px\">\n",
              "    <path d=\"M0 0h24v24H0V0z\" fill=\"none\"/>\n",
              "    <path d=\"M18.56 5.44l.94 2.06.94-2.06 2.06-.94-2.06-.94-.94-2.06-.94 2.06-2.06.94zm-11 1L8.5 8.5l.94-2.06 2.06-.94-2.06-.94L8.5 2.5l-.94 2.06-2.06.94zm10 10l.94 2.06.94-2.06 2.06-.94-2.06-.94-.94-2.06-.94 2.06-2.06.94z\"/><path d=\"M17.41 7.96l-1.37-1.37c-.4-.4-.92-.59-1.43-.59-.52 0-1.04.2-1.43.59L10.3 9.45l-7.72 7.72c-.78.78-.78 2.05 0 2.83L4 21.41c.39.39.9.59 1.41.59.51 0 1.02-.2 1.41-.59l7.78-7.78 2.81-2.81c.8-.78.8-2.07 0-2.86zM5.41 20L4 18.59l7.72-7.72 1.47 1.35L5.41 20z\"/>\n",
              "  </svg>\n",
              "      </button>\n",
              "      \n",
              "  <style>\n",
              "    .colab-df-container {\n",
              "      display:flex;\n",
              "      flex-wrap:wrap;\n",
              "      gap: 12px;\n",
              "    }\n",
              "\n",
              "    .colab-df-convert {\n",
              "      background-color: #E8F0FE;\n",
              "      border: none;\n",
              "      border-radius: 50%;\n",
              "      cursor: pointer;\n",
              "      display: none;\n",
              "      fill: #1967D2;\n",
              "      height: 32px;\n",
              "      padding: 0 0 0 0;\n",
              "      width: 32px;\n",
              "    }\n",
              "\n",
              "    .colab-df-convert:hover {\n",
              "      background-color: #E2EBFA;\n",
              "      box-shadow: 0px 1px 2px rgba(60, 64, 67, 0.3), 0px 1px 3px 1px rgba(60, 64, 67, 0.15);\n",
              "      fill: #174EA6;\n",
              "    }\n",
              "\n",
              "    [theme=dark] .colab-df-convert {\n",
              "      background-color: #3B4455;\n",
              "      fill: #D2E3FC;\n",
              "    }\n",
              "\n",
              "    [theme=dark] .colab-df-convert:hover {\n",
              "      background-color: #434B5C;\n",
              "      box-shadow: 0px 1px 3px 1px rgba(0, 0, 0, 0.15);\n",
              "      filter: drop-shadow(0px 1px 2px rgba(0, 0, 0, 0.3));\n",
              "      fill: #FFFFFF;\n",
              "    }\n",
              "  </style>\n",
              "\n",
              "      <script>\n",
              "        const buttonEl =\n",
              "          document.querySelector('#df-21a2e4f8-1692-451e-87c0-3e95fec853a8 button.colab-df-convert');\n",
              "        buttonEl.style.display =\n",
              "          google.colab.kernel.accessAllowed ? 'block' : 'none';\n",
              "\n",
              "        async function convertToInteractive(key) {\n",
              "          const element = document.querySelector('#df-21a2e4f8-1692-451e-87c0-3e95fec853a8');\n",
              "          const dataTable =\n",
              "            await google.colab.kernel.invokeFunction('convertToInteractive',\n",
              "                                                     [key], {});\n",
              "          if (!dataTable) return;\n",
              "\n",
              "          const docLinkHtml = 'Like what you see? Visit the ' +\n",
              "            '<a target=\"_blank\" href=https://colab.research.google.com/notebooks/data_table.ipynb>data table notebook</a>'\n",
              "            + ' to learn more about interactive tables.';\n",
              "          element.innerHTML = '';\n",
              "          dataTable['output_type'] = 'display_data';\n",
              "          await google.colab.output.renderOutput(dataTable, element);\n",
              "          const docLink = document.createElement('div');\n",
              "          docLink.innerHTML = docLinkHtml;\n",
              "          element.appendChild(docLink);\n",
              "        }\n",
              "      </script>\n",
              "    </div>\n",
              "  </div>\n",
              "  "
            ]
          },
          "metadata": {},
          "execution_count": 2
        }
      ]
    },
    {
      "cell_type": "code",
      "source": [
        "flight_specifics['coach']"
      ],
      "metadata": {
        "colab": {
          "base_uri": "https://localhost:8080/"
        },
        "id": "Z2VEqb-TDXpc",
        "outputId": "d9a42514-85f5-464f-f68e-c2097330a336"
      },
      "execution_count": 3,
      "outputs": [
        {
          "output_type": "execute_result",
          "data": {
            "text/plain": [
              "{'days': 365,\n",
              " 'overbooking': 5,\n",
              " 'pH': [0.6, 0.4],\n",
              " 'pL': [0.3, 0.7],\n",
              " 'priceH': 350,\n",
              " 'priceL': 300,\n",
              " 'seats': 100}"
            ]
          },
          "metadata": {},
          "execution_count": 3
        }
      ]
    },
    {
      "cell_type": "code",
      "source": [
        "def generate_choiceLattice(dict_specific,delta=1/(1+15/365)):\n",
        "  priceL = dict_specific['priceL']\n",
        "  priceH = dict_specific['priceH']\n",
        "  pL = dict_specific['pL']\n",
        "  pH = dict_specific['pH']\n",
        "\n",
        "  delta = delta\n",
        "\n",
        "  overbooking=dict_specific['overbooking']\n",
        "  M = dict_specific['seats'] + overbooking\n",
        "  T = dict_specific['days'] \n",
        "\n",
        "  sValues = np.arange(M+1) \n",
        "  tValues = np.arange(T+1) \n",
        "  sN = len(sValues)\n",
        "  tN = len(tValues)\n",
        "\n",
        "  V = np.zeros((sN,tN)) \n",
        "  U = np.zeros((sN,tN)) \n",
        "\n",
        "  V[:,tN-1] = 0 \n",
        "  U[:,tN-1] =0\n",
        "\n",
        "  for t in reversed(range(tN-1)):\n",
        "    for s in range(sN):\n",
        "      if s==0: \n",
        "        V[s,t]=0 \n",
        "        U[s,t]=3 \n",
        "      else:\n",
        "        valueL = pL[1]*priceL + delta* (pL[0]*V[s,t+1] + pL[1]*V[s-1,t+1])\n",
        "        valueH = pH[1]*priceH + delta* (pH[0]*V[s,t+1] + pH[1]*V[s-1,t+1]) \n",
        "\n",
        "        V[s,t]=max(valueL,valueH) \n",
        "        U[s,t]=np.argmax([valueL,valueH])+1 \n",
        "  return (V,U)\n",
        "\n",
        "\n",
        "v,u=generate_choiceLattice(flight_specifics['coach'])\n",
        "flight_specifics['coach']['v']=v\n",
        "flight_specifics['coach']['u']=u\n",
        "\n",
        "\n",
        "v,u=generate_choiceLattice(flight_specifics['firstClass'])\n",
        "flight_specifics['firstClass']['v']=v\n",
        "flight_specifics['firstClass']['u']=u\n",
        "\n",
        "\n",
        "# flight_specifics\n",
        "# flight_specifics['firstClass']['v'].shape"
      ],
      "metadata": {
        "id": "isSUY4fiE6kn"
      },
      "execution_count": 4,
      "outputs": []
    },
    {
      "cell_type": "code",
      "source": [
        "flight_specifics['coach'].keys()"
      ],
      "metadata": {
        "colab": {
          "base_uri": "https://localhost:8080/"
        },
        "id": "Mb5s4DxkIh8F",
        "outputId": "69a67b0e-8b5b-41c8-8347-f8c0466b7f17"
      },
      "execution_count": 5,
      "outputs": [
        {
          "output_type": "execute_result",
          "data": {
            "text/plain": [
              "dict_keys(['priceL', 'priceH', 'pL', 'pH', 'seats', 'days', 'overbooking', 'v', 'u'])"
            ]
          },
          "metadata": {},
          "execution_count": 5
        }
      ]
    },
    {
      "cell_type": "code",
      "source": [
        "def simulate_revenue(dict_specifics,delta=1/(1+15/365)):\n",
        "  s = dict_specifics['seats']+dict_specifics['overbooking']\n",
        "  tN=dict_specifics['days']\n",
        "  U=dict_specifics['u']\n",
        "  V=dict_specifics['v']\n",
        "\n",
        "  priceL = dict_specifics['priceL']\n",
        "  priceH = dict_specifics['priceH']\n",
        "  pL = dict_specifics['pL']\n",
        "  pH = dict_specifics['pH']\n",
        "\n",
        "  total_rev = 0 \n",
        "  seats_left_vec = np.zeros(tN) # store how many seats\n",
        "  revenue_vec = np.zeros(tN)\n",
        "  price_vec = np.zeros(tN)\n",
        "  \n",
        "\n",
        "\n",
        "  for t in range(tN): \n",
        "      opt_price = U[s,t] \n",
        "      price_vec[t] = opt_price\n",
        "      if opt_price == 1: \n",
        "          prob_sale = pL[0] \n",
        "          actual_price = priceL \n",
        "      elif opt_price == 2: \n",
        "          prob_sale = pH[0]\n",
        "          actual_price = priceH\n",
        "      else: \n",
        "          prob_sale = 0\n",
        "          actual_price = 0\n",
        "\n",
        "      sale = int(np.random.random(1)<prob_sale) \n",
        "      # print(sale)\n",
        "      \n",
        "      s = int(s - sale) #seats being reduced\n",
        "      total_rev = total_rev + sale*actual_price*delta**(t-1) \n",
        "      seats_left_vec[t] = s \n",
        "      revenue_vec[t] = total_rev\n",
        "  revenue_vec=np.array(revenue_vec)\n",
        "  seats_left_vec=np.array(seats_left_vec)\n",
        "  return (seats_left_vec,revenue_vec)"
      ],
      "metadata": {
        "id": "YsZ-MUldHFbb"
      },
      "execution_count": 6,
      "outputs": []
    },
    {
      "cell_type": "code",
      "source": [
        "coach_seats,coach_revenue=simulate_revenue(flight_specifics['coach'])\n",
        "plt.plot(coach_seats)\n",
        "\n",
        "\n",
        "# np.where(coach_seats==5)\n",
        "# np.max(coach_seats)\n",
        "np.where(coach_seats==0)[0][0],np.where(coach_seats==5)[0][0]"
      ],
      "metadata": {
        "colab": {
          "base_uri": "https://localhost:8080/",
          "height": 284
        },
        "id": "rVyv7tT9HFhB",
        "outputId": "ce60ffb4-f24d-4fd8-dc56-06bd69aee44f"
      },
      "execution_count": 7,
      "outputs": [
        {
          "output_type": "execute_result",
          "data": {
            "text/plain": [
              "(313, 302)"
            ]
          },
          "metadata": {},
          "execution_count": 7
        },
        {
          "output_type": "display_data",
          "data": {
            "text/plain": [
              "<Figure size 432x288 with 1 Axes>"
            ],
            "image/png": "[encoded data removed]"
          },
          "metadata": {
            "needs_background": "light"
          }
        }
      ]
    },
    {
      "cell_type": "code",
      "source": [
        "firstClass_seats,firstClass_revenue=simulate_revenue(flight_specifics['firstClass'])\n",
        "plt.plot(firstClass_seats)\n",
        "\n",
        "try:\n",
        "  np.where(firstClass_seats==0)[0][0]\n",
        "except:\n",
        "  print(f'seats_left= {firstClass_seats[-1]}')"
      ],
      "metadata": {
        "colab": {
          "base_uri": "https://localhost:8080/",
          "height": 284
        },
        "id": "WIQFucB7L6hO",
        "outputId": "9f2b69dd-dfa4-4971-8ce4-faf466a2443e"
      },
      "execution_count": 8,
      "outputs": [
        {
          "output_type": "stream",
          "name": "stdout",
          "text": [
            "seats_left= 10.0\n"
          ]
        },
        {
          "output_type": "display_data",
          "data": {
            "text/plain": [
              "<Figure size 432x288 with 1 Axes>"
            ],
            "image/png": "[encoded data removed]"
          },
          "metadata": {
            "needs_background": "light"
          }
        }
      ]
    },
    {
      "cell_type": "markdown",
      "source": [
        "# Combinatorial Approach "
      ],
      "metadata": {
        "id": "8tWRPLkuFFDG"
      }
    },
    {
      "cell_type": "code",
      "source": [
        "overbooking_allowed=5\n",
        "\n",
        "def expected_cost(firstClass_passengers,coach_passengers):\n",
        "  if coach_passengers<=100:\n",
        "    return 0\n",
        "  else:\n",
        "    excess_passenger=coach_passengers-100\n",
        "    if excess_passenger>overbooking_allowed:\n",
        "      excess_passenger=overbooking_allowed\n",
        "    \n",
        "    # excess_passenger=max(overbooking_allowed,excess_passenger)\n",
        "\n",
        "    firstClass_seats_left=max(0,20-firstClass_passengers)\n",
        "    #I will prefer while loop here but let us calculate \n",
        "\n",
        "    passengers_transferred=min(excess_passenger,firstClass_seats_left)\n",
        "    passengers_notFlying=max(0,excess_passenger-passengers_transferred)\n",
        "    cost=425*passengers_notFlying + 50*passengers_transferred\n",
        "    return cost\n",
        "\n",
        "expected_cost(20,90),expected_cost(10,102),expected_cost(10,115),expected_cost(10,150),expected_cost(20,102),expected_cost(20,110)#Maximum would be when I will have to send back all the five(overbooked) passengers"
      ],
      "metadata": {
        "id": "WtLNqY5WHFnN",
        "colab": {
          "base_uri": "https://localhost:8080/"
        },
        "outputId": "1a1e5fe1-fa40-4a9c-ad31-75f544340fc4"
      },
      "execution_count": 19,
      "outputs": [
        {
          "output_type": "execute_result",
          "data": {
            "text/plain": [
              "(0, 100, 250, 250, 850, 2125)"
            ]
          },
          "metadata": {},
          "execution_count": 19
        }
      ]
    },
    {
      "cell_type": "code",
      "source": [
        "import numpy.random as npr\n",
        "from scipy.stats import binom\n",
        "\n",
        "#All possible passengers state that is coach passenger , first class passenger--> All possible combination of coach passenger and first class passenger possible for that state and their expected value\n",
        "\n",
        "expected_value=[]\n",
        "# for coach_passenger_state in range(flight_specifics['coach']['seats']+flight_specifics['coach']['overbooking']+1):\n",
        "#   for firstClass_passenger_state in range(flight_specifics['firstClass']['seats']+1):\n",
        "\n",
        "#because all other values below 100 will give associated cost as 0, so we dont need to run our loop through them\n",
        "for coach_passenger_state in range(flight_specifics['coach']['seats']+1,flight_specifics['coach']['seats']+flight_specifics['coach']['overbooking']+1):\n",
        "  for firstClass_passenger_state in range(flight_specifics['firstClass']['seats']+1):\n",
        "\n",
        "    for coach_passenger in range(coach_passenger_state+1):\n",
        "      for firstClass_passenger in range(firstClass_passenger_state+1):\n",
        "        #Events are independent thus the probabilities can be computed separately and then multiplied\n",
        "        prob_coach_passenger=binom.pmf(n=coach_passenger_state,\n",
        "                                       p=0.95,\n",
        "                                       k=coach_passenger)\n",
        "        prob_firstClass_passenger=binom.pmf(n=firstClass_passenger_state,\n",
        "                                       p=0.97,\n",
        "                                       k=firstClass_passenger)\n",
        "        associated_cost=expected_cost(firstClass_passenger,coach_passenger)\n",
        "        \n",
        "        event_value=associated_cost*(prob_coach_passenger*prob_firstClass_passenger)\n",
        "\n",
        "        expected_value.append(event_value)\n",
        "\n",
        "\n",
        "\n",
        "\n",
        "\n",
        "# def calculate_probability()\n",
        "# binom.pmf(n=,p=0.5,k=1)\n",
        "\n",
        "\n",
        "\n"
      ],
      "metadata": {
        "id": "yGIGGaONHFsr"
      },
      "execution_count": 22,
      "outputs": []
    },
    {
      "cell_type": "code",
      "source": [
        "overbooking_coach=5\n",
        "overbooking_firstClass=0\n",
        "\n",
        "flight_specifics={\n",
        "    'coach': dict(\n",
        "        priceL = {'Y':300,\n",
        "                  'N':0\n",
        "                  }, \n",
        "        priceH = {'Y':350,\n",
        "                  'N':0\n",
        "                  },\n",
        "        pL = {\n",
        "            'Y':0.65,\n",
        "            'N':0.35\n",
        "              }, \n",
        "        pH = {\n",
        "            'Y':0.3,\n",
        "            'N':0.7\n",
        "              }, \n",
        "        seats=100,\n",
        "        days=365,\n",
        "        overbooking=overbooking_coach\n",
        "        ),\n",
        "\n",
        "    'firstClass':dict(\n",
        "        priceL = {'Y':425,\n",
        "                  'N':0\n",
        "                  },\n",
        "        priceH = {'Y':500,\n",
        "                  'N':0\n",
        "                  },\n",
        "        pL = {\n",
        "            'Y':0.08,\n",
        "            'N':0.92\n",
        "              },\n",
        "        pH = {\n",
        "            'Y':0.04,\n",
        "            'N':0.96\n",
        "              },\n",
        "        seats=20,\n",
        "        days=365,\n",
        "        overbooking=overbooking_firstClass        \n",
        "                    )}\n",
        "pd.DataFrame(flight_specifics)"
      ],
      "metadata": {
        "colab": {
          "base_uri": "https://localhost:8080/",
          "height": 268
        },
        "id": "5Ttmg9TU1wlg",
        "outputId": "1283b45a-cb03-4bc0-a86e-ccfc3dd638dd"
      },
      "execution_count": 30,
      "outputs": [
        {
          "output_type": "execute_result",
          "data": {
            "text/plain": [
              "                              coach              firstClass\n",
              "priceL           {'Y': 300, 'N': 0}      {'Y': 425, 'N': 0}\n",
              "priceH           {'Y': 350, 'N': 0}      {'Y': 500, 'N': 0}\n",
              "pL           {'Y': 0.65, 'N': 0.35}  {'Y': 0.08, 'N': 0.92}\n",
              "pH             {'Y': 0.3, 'N': 0.7}  {'Y': 0.04, 'N': 0.96}\n",
              "seats                           100                      20\n",
              "days                            365                     365\n",
              "overbooking                       5                       0"
            ],
            "text/html": [
              "\n",
              "  <div id=\"df-98a7be21-2551-4493-8df4-55201234365e\">\n",
              "    <div class=\"colab-df-container\">\n",
              "      <div>\n",
              "<style scoped>\n",
              "    .dataframe tbody tr th:only-of-type {\n",
              "        vertical-align: middle;\n",
              "    }\n",
              "\n",
              "    .dataframe tbody tr th {\n",
              "        vertical-align: top;\n",
              "    }\n",
              "\n",
              "    .dataframe thead th {\n",
              "        text-align: right;\n",
              "    }\n",
              "</style>\n",
              "<table border=\"1\" class=\"dataframe\">\n",
              "  <thead>\n",
              "    <tr style=\"text-align: right;\">\n",
              "      <th></th>\n",
              "      <th>coach</th>\n",
              "      <th>firstClass</th>\n",
              "    </tr>\n",
              "  </thead>\n",
              "  <tbody>\n",
              "    <tr>\n",
              "      <th>priceL</th>\n",
              "      <td>{'Y': 300, 'N': 0}</td>\n",
              "      <td>{'Y': 425, 'N': 0}</td>\n",
              "    </tr>\n",
              "    <tr>\n",
              "      <th>priceH</th>\n",
              "      <td>{'Y': 350, 'N': 0}</td>\n",
              "      <td>{'Y': 500, 'N': 0}</td>\n",
              "    </tr>\n",
              "    <tr>\n",
              "      <th>pL</th>\n",
              "      <td>{'Y': 0.65, 'N': 0.35}</td>\n",
              "      <td>{'Y': 0.08, 'N': 0.92}</td>\n",
              "    </tr>\n",
              "    <tr>\n",
              "      <th>pH</th>\n",
              "      <td>{'Y': 0.3, 'N': 0.7}</td>\n",
              "      <td>{'Y': 0.04, 'N': 0.96}</td>\n",
              "    </tr>\n",
              "    <tr>\n",
              "      <th>seats</th>\n",
              "      <td>100</td>\n",
              "      <td>20</td>\n",
              "    </tr>\n",
              "    <tr>\n",
              "      <th>days</th>\n",
              "      <td>365</td>\n",
              "      <td>365</td>\n",
              "    </tr>\n",
              "    <tr>\n",
              "      <th>overbooking</th>\n",
              "      <td>5</td>\n",
              "      <td>0</td>\n",
              "    </tr>\n",
              "  </tbody>\n",
              "</table>\n",
              "</div>\n",
              "      <button class=\"colab-df-convert\" onclick=\"convertToInteractive('df-98a7be21-2551-4493-8df4-55201234365e')\"\n",
              "              title=\"Convert this dataframe to an interactive table.\"\n",
              "              style=\"display:none;\">\n",
              "        \n",
              "  <svg xmlns=\"http://www.w3.org/2000/svg\" height=\"24px\"viewBox=\"0 0 24 24\"\n",
              "       width=\"24px\">\n",
              "    <path d=\"M0 0h24v24H0V0z\" fill=\"none\"/>\n",
              "    <path d=\"M18.56 5.44l.94 2.06.94-2.06 2.06-.94-2.06-.94-.94-2.06-.94 2.06-2.06.94zm-11 1L8.5 8.5l.94-2.06 2.06-.94-2.06-.94L8.5 2.5l-.94 2.06-2.06.94zm10 10l.94 2.06.94-2.06 2.06-.94-2.06-.94-.94-2.06-.94 2.06-2.06.94z\"/><path d=\"M17.41 7.96l-1.37-1.37c-.4-.4-.92-.59-1.43-.59-.52 0-1.04.2-1.43.59L10.3 9.45l-7.72 7.72c-.78.78-.78 2.05 0 2.83L4 21.41c.39.39.9.59 1.41.59.51 0 1.02-.2 1.41-.59l7.78-7.78 2.81-2.81c.8-.78.8-2.07 0-2.86zM5.41 20L4 18.59l7.72-7.72 1.47 1.35L5.41 20z\"/>\n",
              "  </svg>\n",
              "      </button>\n",
              "      \n",
              "  <style>\n",
              "    .colab-df-container {\n",
              "      display:flex;\n",
              "      flex-wrap:wrap;\n",
              "      gap: 12px;\n",
              "    }\n",
              "\n",
              "    .colab-df-convert {\n",
              "      background-color: #E8F0FE;\n",
              "      border: none;\n",
              "      border-radius: 50%;\n",
              "      cursor: pointer;\n",
              "      display: none;\n",
              "      fill: #1967D2;\n",
              "      height: 32px;\n",
              "      padding: 0 0 0 0;\n",
              "      width: 32px;\n",
              "    }\n",
              "\n",
              "    .colab-df-convert:hover {\n",
              "      background-color: #E2EBFA;\n",
              "      box-shadow: 0px 1px 2px rgba(60, 64, 67, 0.3), 0px 1px 3px 1px rgba(60, 64, 67, 0.15);\n",
              "      fill: #174EA6;\n",
              "    }\n",
              "\n",
              "    [theme=dark] .colab-df-convert {\n",
              "      background-color: #3B4455;\n",
              "      fill: #D2E3FC;\n",
              "    }\n",
              "\n",
              "    [theme=dark] .colab-df-convert:hover {\n",
              "      background-color: #434B5C;\n",
              "      box-shadow: 0px 1px 3px 1px rgba(0, 0, 0, 0.15);\n",
              "      filter: drop-shadow(0px 1px 2px rgba(0, 0, 0, 0.3));\n",
              "      fill: #FFFFFF;\n",
              "    }\n",
              "  </style>\n",
              "\n",
              "      <script>\n",
              "        const buttonEl =\n",
              "          document.querySelector('#df-98a7be21-2551-4493-8df4-55201234365e button.colab-df-convert');\n",
              "        buttonEl.style.display =\n",
              "          google.colab.kernel.accessAllowed ? 'block' : 'none';\n",
              "\n",
              "        async function convertToInteractive(key) {\n",
              "          const element = document.querySelector('#df-98a7be21-2551-4493-8df4-55201234365e');\n",
              "          const dataTable =\n",
              "            await google.colab.kernel.invokeFunction('convertToInteractive',\n",
              "                                                     [key], {});\n",
              "          if (!dataTable) return;\n",
              "\n",
              "          const docLinkHtml = 'Like what you see? Visit the ' +\n",
              "            '<a target=\"_blank\" href=https://colab.research.google.com/notebooks/data_table.ipynb>data table notebook</a>'\n",
              "            + ' to learn more about interactive tables.';\n",
              "          element.innerHTML = '';\n",
              "          dataTable['output_type'] = 'display_data';\n",
              "          await google.colab.output.renderOutput(dataTable, element);\n",
              "          const docLink = document.createElement('div');\n",
              "          docLink.innerHTML = docLinkHtml;\n",
              "          element.appendChild(docLink);\n",
              "        }\n",
              "      </script>\n",
              "    </div>\n",
              "  </div>\n",
              "  "
            ]
          },
          "metadata": {},
          "execution_count": 30
        }
      ]
    },
    {
      "cell_type": "code",
      "source": [
        "import copy\n",
        "dict_specific=copy.deepcopy(flight_specifics)\n",
        "pd.DataFrame(dict_specific)"
      ],
      "metadata": {
        "colab": {
          "base_uri": "https://localhost:8080/",
          "height": 268
        },
        "id": "xXCB0o6q3hyF",
        "outputId": "ecba54ac-ca9f-4ebd-8e0e-bc56b7019c8b"
      },
      "execution_count": 31,
      "outputs": [
        {
          "output_type": "execute_result",
          "data": {
            "text/plain": [
              "                              coach              firstClass\n",
              "priceL           {'Y': 300, 'N': 0}      {'Y': 425, 'N': 0}\n",
              "priceH           {'Y': 350, 'N': 0}      {'Y': 500, 'N': 0}\n",
              "pL           {'Y': 0.65, 'N': 0.35}  {'Y': 0.08, 'N': 0.92}\n",
              "pH             {'Y': 0.3, 'N': 0.7}  {'Y': 0.04, 'N': 0.96}\n",
              "seats                           100                      20\n",
              "days                            365                     365\n",
              "overbooking                       5                       0"
            ],
            "text/html": [
              "\n",
              "  <div id=\"df-b3af9c76-1d72-4071-ab8e-9ef75f07541d\">\n",
              "    <div class=\"colab-df-container\">\n",
              "      <div>\n",
              "<style scoped>\n",
              "    .dataframe tbody tr th:only-of-type {\n",
              "        vertical-align: middle;\n",
              "    }\n",
              "\n",
              "    .dataframe tbody tr th {\n",
              "        vertical-align: top;\n",
              "    }\n",
              "\n",
              "    .dataframe thead th {\n",
              "        text-align: right;\n",
              "    }\n",
              "</style>\n",
              "<table border=\"1\" class=\"dataframe\">\n",
              "  <thead>\n",
              "    <tr style=\"text-align: right;\">\n",
              "      <th></th>\n",
              "      <th>coach</th>\n",
              "      <th>firstClass</th>\n",
              "    </tr>\n",
              "  </thead>\n",
              "  <tbody>\n",
              "    <tr>\n",
              "      <th>priceL</th>\n",
              "      <td>{'Y': 300, 'N': 0}</td>\n",
              "      <td>{'Y': 425, 'N': 0}</td>\n",
              "    </tr>\n",
              "    <tr>\n",
              "      <th>priceH</th>\n",
              "      <td>{'Y': 350, 'N': 0}</td>\n",
              "      <td>{'Y': 500, 'N': 0}</td>\n",
              "    </tr>\n",
              "    <tr>\n",
              "      <th>pL</th>\n",
              "      <td>{'Y': 0.65, 'N': 0.35}</td>\n",
              "      <td>{'Y': 0.08, 'N': 0.92}</td>\n",
              "    </tr>\n",
              "    <tr>\n",
              "      <th>pH</th>\n",
              "      <td>{'Y': 0.3, 'N': 0.7}</td>\n",
              "      <td>{'Y': 0.04, 'N': 0.96}</td>\n",
              "    </tr>\n",
              "    <tr>\n",
              "      <th>seats</th>\n",
              "      <td>100</td>\n",
              "      <td>20</td>\n",
              "    </tr>\n",
              "    <tr>\n",
              "      <th>days</th>\n",
              "      <td>365</td>\n",
              "      <td>365</td>\n",
              "    </tr>\n",
              "    <tr>\n",
              "      <th>overbooking</th>\n",
              "      <td>5</td>\n",
              "      <td>0</td>\n",
              "    </tr>\n",
              "  </tbody>\n",
              "</table>\n",
              "</div>\n",
              "      <button class=\"colab-df-convert\" onclick=\"convertToInteractive('df-b3af9c76-1d72-4071-ab8e-9ef75f07541d')\"\n",
              "              title=\"Convert this dataframe to an interactive table.\"\n",
              "              style=\"display:none;\">\n",
              "        \n",
              "  <svg xmlns=\"http://www.w3.org/2000/svg\" height=\"24px\"viewBox=\"0 0 24 24\"\n",
              "       width=\"24px\">\n",
              "    <path d=\"M0 0h24v24H0V0z\" fill=\"none\"/>\n",
              "    <path d=\"M18.56 5.44l.94 2.06.94-2.06 2.06-.94-2.06-.94-.94-2.06-.94 2.06-2.06.94zm-11 1L8.5 8.5l.94-2.06 2.06-.94-2.06-.94L8.5 2.5l-.94 2.06-2.06.94zm10 10l.94 2.06.94-2.06 2.06-.94-2.06-.94-.94-2.06-.94 2.06-2.06.94z\"/><path d=\"M17.41 7.96l-1.37-1.37c-.4-.4-.92-.59-1.43-.59-.52 0-1.04.2-1.43.59L10.3 9.45l-7.72 7.72c-.78.78-.78 2.05 0 2.83L4 21.41c.39.39.9.59 1.41.59.51 0 1.02-.2 1.41-.59l7.78-7.78 2.81-2.81c.8-.78.8-2.07 0-2.86zM5.41 20L4 18.59l7.72-7.72 1.47 1.35L5.41 20z\"/>\n",
              "  </svg>\n",
              "      </button>\n",
              "      \n",
              "  <style>\n",
              "    .colab-df-container {\n",
              "      display:flex;\n",
              "      flex-wrap:wrap;\n",
              "      gap: 12px;\n",
              "    }\n",
              "\n",
              "    .colab-df-convert {\n",
              "      background-color: #E8F0FE;\n",
              "      border: none;\n",
              "      border-radius: 50%;\n",
              "      cursor: pointer;\n",
              "      display: none;\n",
              "      fill: #1967D2;\n",
              "      height: 32px;\n",
              "      padding: 0 0 0 0;\n",
              "      width: 32px;\n",
              "    }\n",
              "\n",
              "    .colab-df-convert:hover {\n",
              "      background-color: #E2EBFA;\n",
              "      box-shadow: 0px 1px 2px rgba(60, 64, 67, 0.3), 0px 1px 3px 1px rgba(60, 64, 67, 0.15);\n",
              "      fill: #174EA6;\n",
              "    }\n",
              "\n",
              "    [theme=dark] .colab-df-convert {\n",
              "      background-color: #3B4455;\n",
              "      fill: #D2E3FC;\n",
              "    }\n",
              "\n",
              "    [theme=dark] .colab-df-convert:hover {\n",
              "      background-color: #434B5C;\n",
              "      box-shadow: 0px 1px 3px 1px rgba(0, 0, 0, 0.15);\n",
              "      filter: drop-shadow(0px 1px 2px rgba(0, 0, 0, 0.3));\n",
              "      fill: #FFFFFF;\n",
              "    }\n",
              "  </style>\n",
              "\n",
              "      <script>\n",
              "        const buttonEl =\n",
              "          document.querySelector('#df-b3af9c76-1d72-4071-ab8e-9ef75f07541d button.colab-df-convert');\n",
              "        buttonEl.style.display =\n",
              "          google.colab.kernel.accessAllowed ? 'block' : 'none';\n",
              "\n",
              "        async function convertToInteractive(key) {\n",
              "          const element = document.querySelector('#df-b3af9c76-1d72-4071-ab8e-9ef75f07541d');\n",
              "          const dataTable =\n",
              "            await google.colab.kernel.invokeFunction('convertToInteractive',\n",
              "                                                     [key], {});\n",
              "          if (!dataTable) return;\n",
              "\n",
              "          const docLinkHtml = 'Like what you see? Visit the ' +\n",
              "            '<a target=\"_blank\" href=https://colab.research.google.com/notebooks/data_table.ipynb>data table notebook</a>'\n",
              "            + ' to learn more about interactive tables.';\n",
              "          element.innerHTML = '';\n",
              "          dataTable['output_type'] = 'display_data';\n",
              "          await google.colab.output.renderOutput(dataTable, element);\n",
              "          const docLink = document.createElement('div');\n",
              "          docLink.innerHTML = docLinkHtml;\n",
              "          element.appendChild(docLink);\n",
              "        }\n",
              "      </script>\n",
              "    </div>\n",
              "  </div>\n",
              "  "
            ]
          },
          "metadata": {},
          "execution_count": 31
        }
      ]
    },
    {
      "cell_type": "code",
      "source": [
        "# def call_probabilities(price_setting)"
      ],
      "metadata": {
        "id": "lvTfIfW16lvu"
      },
      "execution_count": null,
      "outputs": []
    },
    {
      "cell_type": "code",
      "source": [
        "delta = (1/(1+15/365))\n",
        "\n",
        "T = dict_specific['coach']['days'] #365\n",
        "\n",
        "overbooking=dict_specific['coach']['overbooking']\n",
        "seats_coach = dict_specific['coach']['seats'] + overbooking\n",
        "seats_firstClass=dict_specific['firstClass']['seats']\n",
        "\n",
        "#Lets define placeholders\n",
        "V = np.zeros((seats_coach+1,seats_firstClass+1,T+1)) #0,1......365\n",
        "U = np.zeros((seats_coach+1,seats_firstClass+1,T+1)) \n",
        "\n",
        "V[:,:,T] =sum(expected_value)#at t=365\n",
        "U[:,:,T] =0\n",
        "\n",
        "for t in reversed(range(T-1)):\n",
        "  for c_s in range(seats_coach+1):#go till 100+5 therefore +1\n",
        "    for fc_s in range(seats_firstClass+1):\n",
        "\n",
        "      if c_s==0: \n",
        "        V[c_s,fc_s,t]=0 \n",
        "        U[c_s,fc_s,t]=-1 #4 choices HH,Hl,LH,LL \n",
        "      elif fc_s==0:\n",
        "        V[c_s,fc_s,t]=0 \n",
        "        U[fc_s,fc_s,t]=-2 #4 choices HH,Hl,LH,LL \n",
        "      else:\n",
        "        #Design Matrix for four choices \n",
        "        #nomenclatureConvention --> coach_firstClass\n",
        "        val_choices=[]\n",
        "        for price_choice in ['HH','HL','LH','LL']: \n",
        "\n",
        "          ch_coach=price_choice[0]\n",
        "          ch_firstClass=price_choice[1]\n",
        "\n",
        "          prob_dict_1=dict_specific['coach']['p'+ch_coach]\n",
        "          rev_dict_1=dict_specific['coach']['price'+ch_coach]\n",
        "\n",
        "          prob_dict_2=dict_specific['firstClass']['p'+ch_firstClass]\n",
        "          rev_dict_2=dict_specific['firstClass']['price'+ch_firstClass]\n",
        "\n",
        "          boughtTicket_choices=('YY','YN','NY','NN')\n",
        "\n",
        "          dict_bool={\n",
        "              'Y':1,\n",
        "              'N':0\n",
        "          }\n",
        "\n",
        "          expected_revenue=0\n",
        "          for choices in boughtTicket_choices:\n",
        "            temp_1=choices[0]\n",
        "            temp_2=choices[1]\n",
        "\n",
        "            coach_ticket_sold=dict_bool[temp_1]\n",
        "            firstClass_ticket_sold=dict_bool[temp_2]\n",
        "\n",
        "\n",
        "            temp_revenue_reward=rev_dict_1[temp_1]+rev_dict_2[temp_2]\n",
        "            temp_prob=prob_dict_1[temp_1]*prob_dict_2[temp_2]\n",
        "\n",
        "            temp_temporal_reward=delta*V[c_s-coach_ticket_sold,fc_s-firstClass_ticket_sold,t+1]#0\n",
        "\n",
        "            temp_reward=temp_revenue_reward*temp_prob + temp_temporal_reward*temp_prob\n",
        "\n",
        "            expected_revenue+= temp_reward\n",
        "          val_choices.append(expected_revenue)\n",
        "\n",
        "\n",
        "      V[c_s,fc_s,t]=max(val_choices) \n",
        "      U[c_s,fc_s,t]=np.argmax(val_choices)+1 \n"
      ],
      "metadata": {
        "id": "K0AGESbU3ZcS"
      },
      "execution_count": 41,
      "outputs": []
    },
    {
      "cell_type": "code",
      "source": [
        "V"
      ],
      "metadata": {
        "colab": {
          "base_uri": "https://localhost:8080/"
        },
        "id": "SYZEX-sPDaPF",
        "outputId": "fd11caa1-8f5f-4fd6-a0ca-8b73c6df31f6"
      },
      "execution_count": 43,
      "outputs": [
        {
          "output_type": "execute_result",
          "data": {
            "text/plain": [
              "array([[[5801.33051941, 5801.33040385, 5801.33028358, ...,\n",
              "          229.        ,    0.        , 1906.12287376],\n",
              "        [5801.33051941, 5801.33040385, 5801.33028358, ...,\n",
              "          229.        ,    0.        , 1906.12287376],\n",
              "        [5801.33051941, 5801.33040385, 5801.33028358, ...,\n",
              "          229.        ,    0.        , 1906.12287376],\n",
              "        ...,\n",
              "        [5801.33051941, 5801.33040385, 5801.33028358, ...,\n",
              "          229.        ,    0.        , 1906.12287376],\n",
              "        [5801.33051941, 5801.33040385, 5801.33028358, ...,\n",
              "          229.        ,    0.        , 1906.12287376],\n",
              "        [5801.33051941, 5801.33040385, 5801.33028358, ...,\n",
              "          229.        ,    0.        , 1906.12287376]],\n",
              "\n",
              "       [[5801.33051941, 5801.33040385, 5801.33028358, ...,\n",
              "          229.        ,    0.        , 1906.12287376],\n",
              "        [5801.33051955, 5801.33040403, 5801.33028379, ...,\n",
              "          229.        ,    0.        , 1906.12287376],\n",
              "        [5801.33051955, 5801.33040404, 5801.3302838 , ...,\n",
              "          229.        ,    0.        , 1906.12287376],\n",
              "        ...,\n",
              "        [5801.33051955, 5801.33040404, 5801.3302838 , ...,\n",
              "          229.        ,    0.        , 1906.12287376],\n",
              "        [5801.33051955, 5801.33040404, 5801.3302838 , ...,\n",
              "          229.        ,    0.        , 1906.12287376],\n",
              "        [5801.33051955, 5801.33040404, 5801.3302838 , ...,\n",
              "          229.        ,    0.        , 1906.12287376]],\n",
              "\n",
              "       [[5801.33051955, 5801.33040404, 5801.3302838 , ...,\n",
              "          229.        ,    0.        , 1906.12287376],\n",
              "        [5801.33051972, 5801.33040424, 5801.33028405, ...,\n",
              "          229.        ,    0.        , 1906.12287376],\n",
              "        [5801.33051975, 5801.33040428, 5801.3302841 , ...,\n",
              "          229.        ,    0.        , 1906.12287376],\n",
              "        ...,\n",
              "        [5801.33051975, 5801.33040428, 5801.3302841 , ...,\n",
              "          229.        ,    0.        , 1906.12287376],\n",
              "        [5801.33051975, 5801.33040428, 5801.3302841 , ...,\n",
              "          229.        ,    0.        , 1906.12287376],\n",
              "        [5801.33051975, 5801.33040428, 5801.3302841 , ...,\n",
              "          229.        ,    0.        , 1906.12287376]],\n",
              "\n",
              "       ...,\n",
              "\n",
              "       [[5801.33063021, 5801.33051916, 5801.33040354, ...,\n",
              "          229.        ,    0.        , 1906.12287376],\n",
              "        [5801.33063022, 5801.33051916, 5801.33040354, ...,\n",
              "          229.        ,    0.        , 1906.12287376],\n",
              "        [5801.33063022, 5801.33051916, 5801.33040354, ...,\n",
              "          229.        ,    0.        , 1906.12287376],\n",
              "        ...,\n",
              "        [5801.33063026, 5801.33051921, 5801.33040361, ...,\n",
              "          229.        ,    0.        , 1906.12287376],\n",
              "        [5801.33063026, 5801.33051921, 5801.33040361, ...,\n",
              "          229.        ,    0.        , 1906.12287376],\n",
              "        [5801.33063026, 5801.33051921, 5801.33040361, ...,\n",
              "          229.        ,    0.        , 1906.12287376]],\n",
              "\n",
              "       [[5801.33063026, 5801.33051921, 5801.33040361, ...,\n",
              "          229.        ,    0.        , 1906.12287376],\n",
              "        [5801.33063026, 5801.33051922, 5801.33040362, ...,\n",
              "          229.        ,    0.        , 1906.12287376],\n",
              "        [5801.33063026, 5801.33051922, 5801.33040362, ...,\n",
              "          229.        ,    0.        , 1906.12287376],\n",
              "        ...,\n",
              "        [5801.33063032, 5801.33051929, 5801.33040371, ...,\n",
              "          229.        ,    0.        , 1906.12287376],\n",
              "        [5801.33063032, 5801.33051929, 5801.33040371, ...,\n",
              "          229.        ,    0.        , 1906.12287376],\n",
              "        [5801.33063033, 5801.3305193 , 5801.33040372, ...,\n",
              "          229.        ,    0.        , 1906.12287376]],\n",
              "\n",
              "       [[5801.33063033, 5801.3305193 , 5801.33040372, ...,\n",
              "          229.        ,    0.        , 1906.12287376],\n",
              "        [5801.33063033, 5801.3305193 , 5801.33040372, ...,\n",
              "          229.        ,    0.        , 1906.12287376],\n",
              "        [5801.33063033, 5801.3305193 , 5801.33040372, ...,\n",
              "          229.        ,    0.        , 1906.12287376],\n",
              "        ...,\n",
              "        [5801.3306304 , 5801.33051939, 5801.33040384, ...,\n",
              "          229.        ,    0.        , 1906.12287376],\n",
              "        [5801.33063041, 5801.3305194 , 5801.33040385, ...,\n",
              "          229.        ,    0.        , 1906.12287376],\n",
              "        [5801.33063041, 5801.33051941, 5801.33040385, ...,\n",
              "          229.        ,    0.        , 1906.12287376]]])"
            ]
          },
          "metadata": {},
          "execution_count": 43
        }
      ]
    },
    {
      "cell_type": "code",
      "source": [
        "def generate_choiceLattice(dict_specific,delta=1/(1+15/365)):\n",
        "  priceL = dict_specific['priceL']\n",
        "  priceH = dict_specific['priceH']\n",
        "  pL = dict_specific['pL']\n",
        "  pH = dict_specific['pH']\n",
        "\n",
        "  delta = delta\n",
        "\n",
        "  overbooking=dict_specific['overbooking']\n",
        "  M = dict_specific['seats'] + overbooking\n",
        "  T = dict_specific['days'] \n",
        "\n",
        "  sValues = np.arange(M+1) \n",
        "  tValues = np.arange(T+1) \n",
        "  sN = len(sValues)\n",
        "  tN = len(tValues)\n",
        "\n",
        "  V = np.zeros((sN,tN)) \n",
        "  U = np.zeros((sN,tN)) \n",
        "\n",
        "  V[:,tN-1] = 0 \n",
        "  U[:,tN-1] =0\n",
        "\n",
        "  for t in reversed(range(tN-1)):\n",
        "    for s in range(sN):\n",
        "      if s==0: \n",
        "        V[s,t]=0 \n",
        "        U[s,t]=3 \n",
        "      else:\n",
        "        valueL = pL[1]*priceL + delta* (pL[0]*V[s,t+1] + pL[1]*V[s-1,t+1])\n",
        "        valueH = pH[1]*priceH + delta* (pH[0]*V[s,t+1] + pH[1]*V[s-1,t+1]) \n",
        "\n",
        "        V[s,t]=max(valueL,valueH) \n",
        "        U[s,t]=np.argmax([valueL,valueH])+1 \n",
        "  return (V,U)\n",
        "\n",
        "\n",
        "v,u=generate_choiceLattice(flight_specifics['coach'])\n",
        "flight_specifics['coach']['v']=v\n",
        "flight_specifics['coach']['u']=u\n",
        "\n",
        "\n",
        "v,u=generate_choiceLattice(flight_specifics['firstClass'])\n",
        "flight_specifics['firstClass']['v']=v\n",
        "flight_specifics['firstClass']['u']=u\n",
        "\n",
        "\n",
        "# flight_specifics\n",
        "# flight_specifics['firstClass']['v'].shape"
      ],
      "metadata": {
        "id": "FNNudjxW1qyO"
      },
      "execution_count": null,
      "outputs": []
    },
    {
      "cell_type": "code",
      "source": [
        ""
      ],
      "metadata": {
        "id": "1KeGFzVr1qoZ"
      },
      "execution_count": null,
      "outputs": []
    },
    {
      "cell_type": "code",
      "source": [
        ""
      ],
      "metadata": {
        "id": "LyxAaMpA1qjT"
      },
      "execution_count": null,
      "outputs": []
    },
    {
      "cell_type": "code",
      "source": [
        ""
      ],
      "metadata": {
        "id": "duACRP8e1qeU"
      },
      "execution_count": null,
      "outputs": []
    },
    {
      "cell_type": "code",
      "source": [
        ""
      ],
      "metadata": {
        "id": "pUYX_Tq_1qYe"
      },
      "execution_count": null,
      "outputs": []
    },
    {
      "cell_type": "code",
      "source": [
        "associated_cost\n",
        "firstClass_passenger\n",
        "coach_passenger"
      ],
      "metadata": {
        "colab": {
          "base_uri": "https://localhost:8080/"
        },
        "id": "ecTcyeK_kW2S",
        "outputId": "ce869668-a4d6-403f-a473-4a45ebb36b45"
      },
      "execution_count": 25,
      "outputs": [
        {
          "output_type": "execute_result",
          "data": {
            "text/plain": [
              "105"
            ]
          },
          "metadata": {},
          "execution_count": 25
        }
      ]
    },
    {
      "cell_type": "code",
      "source": [
        "import matplotlib.pyplot as plt\n",
        "plt.figure(figsize=(20,8))\n",
        "plt.plot(expected_value)"
      ],
      "metadata": {
        "id": "KIze01zQHFxs",
        "colab": {
          "base_uri": "https://localhost:8080/",
          "height": 501
        },
        "outputId": "194495fc-0f6d-478c-c5d6-8b3cb4bf7494"
      },
      "execution_count": 23,
      "outputs": [
        {
          "output_type": "execute_result",
          "data": {
            "text/plain": [
              "[<matplotlib.lines.Line2D at 0x7f1c6217d710>]"
            ]
          },
          "metadata": {},
          "execution_count": 23
        },
        {
          "output_type": "display_data",
          "data": {
            "text/plain": [
              "<Figure size 1440x576 with 1 Axes>"
            ],
            "image/png": "[encoded data removed]"
          },
          "metadata": {
            "needs_background": "light"
          }
        }
      ]
    },
    {
      "cell_type": "code",
      "source": [
        "sum(expected_value)"
      ],
      "metadata": {
        "id": "EDAeguJPHF2r",
        "colab": {
          "base_uri": "https://localhost:8080/"
        },
        "outputId": "ae1cea5a-d722-4eb2-b544-3927c699b27f"
      },
      "execution_count": 24,
      "outputs": [
        {
          "output_type": "execute_result",
          "data": {
            "text/plain": [
              "1906.1228737633585"
            ]
          },
          "metadata": {},
          "execution_count": 24
        }
      ]
    },
    {
      "cell_type": "code",
      "source": [
        ""
      ],
      "metadata": {
        "id": "QJFaps2AHF8b"
      },
      "execution_count": null,
      "outputs": []
    },
    {
      "cell_type": "markdown",
      "source": [
        "# ROUGH SPACE"
      ],
      "metadata": {
        "id": "75Zpu25IG0aq"
      }
    },
    {
      "cell_type": "code",
      "source": [
        "V = np.zeros((sN,tN)) \n",
        "U = np.zeros((sN,tN)) \n",
        "\n",
        "# boundary/terminal condition\n",
        "V[:,tN-1] = 0 # when the flight takes off you can't make any more money\n",
        "U[:,tN-1] = 0 # 0 is the value for no tickets for sale\n"
      ],
      "metadata": {
        "id": "Hk93wuSbn-ia"
      },
      "execution_count": null,
      "outputs": []
    },
    {
      "cell_type": "code",
      "source": [
        "for t in reversed(range(tN-1)):\n",
        "    for s in range(sN):\n",
        "        if s==0: \n",
        "            V[s,t]=0 \n",
        "            U[s,t]=3 \n",
        "        else:\n",
        "            valueL = pL[1]*priceL + delta* (pL[0]*V[s,t+1] + pL[1]*V[s-1,t+1])\n",
        "            valueH = pH[1]*priceH + delta* (pH[0]*V[s,t+1] + pH[1]*V[s-1,t+1]) \n",
        "\n",
        "            V[s,t]=max(valueL,valueH) \n",
        "            U[s,t]=np.argmax([valueL,valueH])+1 \n"
      ],
      "metadata": {
        "id": "dgDc9uC1n-n3"
      },
      "execution_count": null,
      "outputs": []
    },
    {
      "cell_type": "code",
      "source": [
        "U[:10]"
      ],
      "metadata": {
        "id": "jbpQZqTXn-tt"
      },
      "execution_count": null,
      "outputs": []
    },
    {
      "cell_type": "code",
      "source": [
        "# U[\n",
        "# np.where(U==3)\n",
        "  # ]\n",
        "from copy import deepcopy\n",
        "\n",
        "v_coach=deepcopy(V)\n",
        "u_coach=deepcopy(U)\n"
      ],
      "metadata": {
        "id": "pTfJGr2on-zX"
      },
      "execution_count": null,
      "outputs": []
    },
    {
      "cell_type": "markdown",
      "source": [
        ""
      ],
      "metadata": {
        "id": "E93TLDV7AtX6"
      }
    },
    {
      "cell_type": "code",
      "source": [
        "priceL = 425\n",
        "priceH = 500\n",
        "pL = [0.08,0.92] \n",
        "pH = [0.04,0.96] \n",
        "\n",
        "delta = 1/(1+15/365) #0.96\n",
        "\n",
        "overbooking=0\n",
        "M = 20 + overbooking\n",
        "T = 365 \n",
        "\n",
        "sValues = np.arange(M+1) #0 and other seats that are allowed\n",
        "tValues = np.arange(T+1) \n",
        "sN = len(sValues)\n",
        "tN = len(tValues)"
      ],
      "metadata": {
        "id": "b21SFtswAsbo"
      },
      "execution_count": null,
      "outputs": []
    },
    {
      "cell_type": "code",
      "source": [
        "for t in reversed(range(tN-1)):\n",
        "    for s in range(sN):\n",
        "        if s==0: \n",
        "            V[s,t]=0 \n",
        "            U[s,t]=3 \n",
        "        else:\n",
        "            valueL = pL[1]*priceL + delta* (pL[0]*V[s,t+1] + pL[1]*V[s-1,t+1])\n",
        "            valueH = pH[1]*priceH + delta* (pH[0]*V[s,t+1] + pH[1]*V[s-1,t+1]) \n",
        "\n",
        "            V[s,t]=max(valueL,valueH) \n",
        "            U[s,t]=np.argmax([valueL,valueH])+1 \n"
      ],
      "metadata": {
        "id": "vaCjdkhcAshC"
      },
      "execution_count": null,
      "outputs": []
    },
    {
      "cell_type": "code",
      "source": [
        "U"
      ],
      "metadata": {
        "id": "DVAw7x5FAsnZ"
      },
      "execution_count": null,
      "outputs": []
    },
    {
      "cell_type": "code",
      "source": [
        "v_firstClass=deepcopy(V)\n",
        "u_firstClass=deepcopy(U)"
      ],
      "metadata": {
        "id": "W6F8ijKuBeRi"
      },
      "execution_count": null,
      "outputs": []
    },
    {
      "cell_type": "code",
      "source": [
        ""
      ],
      "metadata": {
        "id": "DdYpQfjVBejr"
      },
      "execution_count": null,
      "outputs": []
    },
    {
      "cell_type": "code",
      "source": [
        ""
      ],
      "metadata": {
        "id": "3i1lb6D5Bepm"
      },
      "execution_count": null,
      "outputs": []
    },
    {
      "cell_type": "markdown",
      "source": [
        ""
      ],
      "metadata": {
        "id": "PiWbOzc4ns90"
      }
    },
    {
      "cell_type": "code",
      "source": [
        "1/(1+15/365)"
      ],
      "metadata": {
        "id": "MTAlsRyrmpPb"
      },
      "execution_count": null,
      "outputs": []
    },
    {
      "cell_type": "code",
      "source": [
        "np.flip(np.arange(0,-5,-1))"
      ],
      "metadata": {
        "id": "fWXpFNVcmrsK"
      },
      "execution_count": null,
      "outputs": []
    },
    {
      "cell_type": "code",
      "source": [
        "# expectedValue_revenue\n",
        "\n",
        "# HH\n",
        "\n",
        "val_choices=[]\n",
        "for price_choice in ['HH','HL','LH','LL']: \n",
        "\n",
        "  ch_coach=price_choice[0]\n",
        "  ch_firstClass=price_choice[1]\n",
        "\n",
        "  prob_dict_1=dict_specific['coach']['p'+ch_coach]\n",
        "  rev_dict_1=dict_specific['coach']['price'+ch_coach]\n",
        "\n",
        "  prob_dict_2=dict_specific['firstClass']['p'+ch_firstClass]\n",
        "  rev_dict_2=dict_specific['firstClass']['price'+ch_firstClass]\n",
        "\n",
        "  boughtTicket_choices=('YY','YN','NY','NN')\n",
        "\n",
        "  dict_bool={\n",
        "      'Y':1,\n",
        "      'N':0\n",
        "  }\n",
        "\n",
        "  expected_revenue=0\n",
        "  for choices in boughtTicket_choices:\n",
        "    temp_1=choices[0]\n",
        "    temp_2=choices[1]\n",
        "\n",
        "    coach_ticket_sold=dict_bool[temp_1]\n",
        "    firstClass_ticket_sold=dict_bool[temp_2]\n",
        "\n",
        "\n",
        "    temp_revenue_reward=rev_dict_1[temp_1]+rev_dict_2[temp_2]\n",
        "    temp_prob=prob_dict_1[temp_1]*prob_dict_2[temp_2]\n",
        "\n",
        "    temp_temporal_reward=0#delta*V[c_s-coach_ticket_sold,fc_s-firstClass_ticket_sold,t+1]#0\n",
        "\n",
        "    temp_reward=temp_revenue_reward*temp_prob + temp_temporal_reward*temp_prob\n",
        "\n",
        "    expected_revenue+= temp_reward\n",
        "  val_choices.append(expected_revenue)\n",
        "\n",
        "\n",
        "\n",
        "\n",
        "# prob_dict_2,rev_dict_2\n",
        "max(val_choices)\n",
        "np.argmax(val_choices)"
      ],
      "metadata": {
        "id": "pUN0L6SAmyQx"
      },
      "execution_count": null,
      "outputs": []
    }
  ]
}